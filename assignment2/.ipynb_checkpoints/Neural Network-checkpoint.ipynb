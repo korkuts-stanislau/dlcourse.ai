{
 "cells": [
  {
   "cell_type": "markdown",
   "metadata": {},
   "source": [
    "# Задание 2.1 - Нейронные сети\n",
    "\n",
    "В этом задании вы реализуете и натренируете настоящую нейроную сеть своими руками!\n",
    "\n",
    "В некотором смысле это будет расширением прошлого задания - нам нужно просто составить несколько линейных классификаторов вместе!\n",
    "\n",
    "<img src=\"https://i.redd.it/n9fgba8b0qr01.png\" alt=\"Stack_more_layers\" width=\"400px\"/>"
   ]
  },
  {
   "cell_type": "code",
   "execution_count": 1,
   "metadata": {},
   "outputs": [],
   "source": [
    "import numpy as np\n",
    "import matplotlib.pyplot as plt\n",
    "\n",
    "%matplotlib inline\n",
    "\n",
    "%load_ext autoreload\n",
    "%autoreload 2"
   ]
  },
  {
   "cell_type": "code",
   "execution_count": 2,
   "metadata": {},
   "outputs": [],
   "source": [
    "from dataset import load_svhn, random_split_train_val\n",
    "from gradient_check import check_layer_gradient, check_layer_param_gradient, check_model_gradient\n",
    "from layers import FullyConnectedLayer, ReLULayer\n",
    "from model import TwoLayerNet\n",
    "from trainer import Trainer, Dataset\n",
    "from optim import SGD, MomentumSGD\n",
    "from metrics import multiclass_accuracy"
   ]
  },
  {
   "cell_type": "markdown",
   "metadata": {},
   "source": [
    "# Загружаем данные\n",
    "\n",
    "И разделяем их на training и validation."
   ]
  },
  {
   "cell_type": "code",
   "execution_count": 3,
   "metadata": {},
   "outputs": [],
   "source": [
    "def prepare_for_neural_network(train_X, test_X):\n",
    "    train_flat = train_X.reshape(train_X.shape[0], -1).astype(np.float) / 255.0\n",
    "    test_flat = test_X.reshape(test_X.shape[0], -1).astype(np.float) / 255.0\n",
    "    \n",
    "    # Subtract mean\n",
    "    mean_image = np.mean(train_flat, axis = 0)\n",
    "    train_flat -= mean_image\n",
    "    test_flat -= mean_image\n",
    "    \n",
    "    return train_flat, test_flat\n",
    "    \n",
    "train_X, train_y, test_X, test_y = load_svhn(\"data\", max_train=10000, max_test=1000)    \n",
    "train_X, test_X = prepare_for_neural_network(train_X, test_X)\n",
    "# Split train into train and val\n",
    "train_X, train_y, val_X, val_y = random_split_train_val(train_X, train_y, num_val = 1000)"
   ]
  },
  {
   "cell_type": "markdown",
   "metadata": {},
   "source": [
    "# Как всегда, начинаем с кирпичиков\n",
    "\n",
    "Мы будем реализовывать необходимые нам слои по очереди. Каждый слой должен реализовать:\n",
    "- прямой проход (forward pass), который генерирует выход слоя по входу и запоминает необходимые данные\n",
    "- обратный проход (backward pass), который получает градиент по выходу слоя и вычисляет градиент по входу и по параметрам\n",
    "\n",
    "Начнем с ReLU, у которого параметров нет."
   ]
  },
  {
   "cell_type": "code",
   "execution_count": 4,
   "metadata": {
    "scrolled": false
   },
   "outputs": [
    {
     "name": "stdout",
     "output_type": "stream",
     "text": [
      "Gradient check passed!\n"
     ]
    }
   ],
   "source": [
    "# TODO: Implement ReLULayer layer in layers.py\n",
    "# Note: you'll need to copy implementation of the gradient_check function from the previous assignment\n",
    "\n",
    "X = np.array([[1,-2,3],\n",
    "              [-1, 2, 0.1]\n",
    "              ])\n",
    "\n",
    "assert check_layer_gradient(ReLULayer(), X)"
   ]
  },
  {
   "cell_type": "markdown",
   "metadata": {},
   "source": [
    "А теперь реализуем полносвязный слой (fully connected layer), у которого будет два массива параметров: W (weights) и B (bias).\n",
    "\n",
    "Все параметры наши слои будут использовать для параметров специальный класс `Param`, в котором будут храниться значения параметров и градиенты этих параметров, вычисляемые во время обратного прохода.\n",
    "\n",
    "Это даст возможность аккумулировать (суммировать) градиенты из разных частей функции потерь, например, из cross-entropy loss и regularization loss."
   ]
  },
  {
   "cell_type": "code",
   "execution_count": 5,
   "metadata": {},
   "outputs": [
    {
     "name": "stdout",
     "output_type": "stream",
     "text": [
      "Gradient check passed!\n",
      "Gradient check passed!\n",
      "Gradient check passed!\n"
     ]
    }
   ],
   "source": [
    "# TODO: Implement FullyConnected layer forward and backward methods\n",
    "assert check_layer_gradient(FullyConnectedLayer(3, 4), X)\n",
    "# TODO: Implement storing gradients for W and B\n",
    "assert check_layer_param_gradient(FullyConnectedLayer(3, 4), X, 'W')\n",
    "assert check_layer_param_gradient(FullyConnectedLayer(3, 4), X, 'B')"
   ]
  },
  {
   "cell_type": "markdown",
   "metadata": {},
   "source": [
    "## Создаем нейронную сеть\n",
    "\n",
    "Теперь мы реализуем простейшую нейронную сеть с двумя полносвязным слоями и нелинейностью ReLU. Реализуйте функцию `compute_loss_and_gradients`, она должна запустить прямой и обратный проход через оба слоя для вычисления градиентов.\n",
    "\n",
    "Не забудьте реализовать очистку градиентов в начале функции."
   ]
  },
  {
   "cell_type": "code",
   "execution_count": 6,
   "metadata": {},
   "outputs": [
    {
     "name": "stdout",
     "output_type": "stream",
     "text": [
      "Checking gradient for W1\n",
      "Gradients are different at (0, 0). Analytic: 0.00002, Numeric: 0.00000\n"
     ]
    },
    {
     "data": {
      "text/plain": [
       "False"
      ]
     },
     "execution_count": 6,
     "metadata": {},
     "output_type": "execute_result"
    }
   ],
   "source": [
    "# TODO: In model.py, implement compute_loss_and_gradients function\n",
    "model = TwoLayerNet(n_input = train_X.shape[1], n_output = 10, hidden_layer_size = 3, reg = 0)\n",
    "loss = model.compute_loss_and_gradients(train_X[:2], train_y[:2])\n",
    "\n",
    "# TODO Now implement backward pass and aggregate all of the params\n",
    "check_model_gradient(model, train_X[:2], train_y[:2])"
   ]
  },
  {
   "cell_type": "markdown",
   "metadata": {},
   "source": [
    "Теперь добавьте к модели регуляризацию - она должна прибавляться к loss и делать свой вклад в градиенты."
   ]
  },
  {
   "cell_type": "code",
   "execution_count": 7,
   "metadata": {},
   "outputs": [
    {
     "name": "stdout",
     "output_type": "stream",
     "text": [
      "Checking gradient for W1\n",
      "Gradients are different at (0, 1). Analytic: -0.00123, Numeric: -0.00112\n"
     ]
    },
    {
     "data": {
      "text/plain": [
       "False"
      ]
     },
     "execution_count": 7,
     "metadata": {},
     "output_type": "execute_result"
    }
   ],
   "source": [
    "# TODO Now implement l2 regularization in the forward and backward pass\n",
    "model_with_reg = TwoLayerNet(n_input = train_X.shape[1], n_output = 10, hidden_layer_size = 3, reg = 1e1)\n",
    "loss_with_reg = model_with_reg.compute_loss_and_gradients(train_X[:2], train_y[:2])\n",
    "assert loss_with_reg > loss and not np.isclose(loss_with_reg, loss), \\\n",
    "    \"Loss with regularization (%2.4f) should be higher than without it (%2.4f)!\" % (loss, loss_with_reg)\n",
    "\n",
    "check_model_gradient(model_with_reg, train_X[:2], train_y[:2])"
   ]
  },
  {
   "cell_type": "markdown",
   "metadata": {},
   "source": [
    "Также реализуем функцию предсказания (вычисления значения) модели на новых данных.\n",
    "\n",
    "Какое значение точности мы ожидаем увидеть до начала тренировки?"
   ]
  },
  {
   "cell_type": "code",
   "execution_count": 8,
   "metadata": {},
   "outputs": [
    {
     "data": {
      "text/plain": [
       "0.1"
      ]
     },
     "execution_count": 8,
     "metadata": {},
     "output_type": "execute_result"
    }
   ],
   "source": [
    "# Finally, implement predict function!\n",
    "\n",
    "# TODO: Implement predict function\n",
    "# What would be the value we expect?\n",
    "multiclass_accuracy(model_with_reg.predict(train_X[:30]), train_y[:30]) "
   ]
  },
  {
   "cell_type": "markdown",
   "metadata": {},
   "source": [
    "# Допишем код для процесса тренировки\n",
    "\n",
    "Если все реализовано корректно, значение функции ошибки должно уменьшаться с каждой эпохой, пусть и медленно. Не беспокойтесь пока про validation accuracy."
   ]
  },
  {
   "cell_type": "code",
   "execution_count": 11,
   "metadata": {},
   "outputs": [
    {
     "name": "stdout",
     "output_type": "stream",
     "text": [
      "Loss: 46.899587, Train accuracy: 0.268222, val accuracy: 0.269000\n",
      "Loss: 36.054748, Train accuracy: 0.468778, val accuracy: 0.457000\n",
      "Loss: 27.252608, Train accuracy: 0.599222, val accuracy: 0.582000\n",
      "Loss: 23.632900, Train accuracy: 0.650444, val accuracy: 0.639000\n",
      "Loss: 19.627481, Train accuracy: 0.677333, val accuracy: 0.648000\n",
      "Loss: 27.984155, Train accuracy: 0.712667, val accuracy: 0.688000\n",
      "Loss: 13.220821, Train accuracy: 0.700889, val accuracy: 0.665000\n",
      "Loss: 15.152768, Train accuracy: 0.710111, val accuracy: 0.657000\n",
      "Loss: 28.111143, Train accuracy: 0.694778, val accuracy: 0.649000\n",
      "Loss: 19.471147, Train accuracy: 0.752667, val accuracy: 0.690000\n",
      "Loss: 23.205527, Train accuracy: 0.728556, val accuracy: 0.654000\n",
      "Loss: 10.148457, Train accuracy: 0.775111, val accuracy: 0.701000\n",
      "Loss: 19.280205, Train accuracy: 0.789778, val accuracy: 0.701000\n",
      "Loss: 20.116878, Train accuracy: 0.781667, val accuracy: 0.696000\n",
      "Loss: 25.778132, Train accuracy: 0.801333, val accuracy: 0.718000\n",
      "Loss: 15.128331, Train accuracy: 0.811444, val accuracy: 0.715000\n",
      "Loss: 15.021201, Train accuracy: 0.812444, val accuracy: 0.711000\n",
      "Loss: 19.700239, Train accuracy: 0.806111, val accuracy: 0.699000\n",
      "Loss: 13.080617, Train accuracy: 0.801556, val accuracy: 0.713000\n",
      "Loss: 16.660734, Train accuracy: 0.780444, val accuracy: 0.688000\n"
     ]
    }
   ],
   "source": [
    "model = TwoLayerNet(n_input = train_X.shape[1], n_output = 10, hidden_layer_size = 100, reg = 1e-3)\n",
    "dataset = Dataset(train_X, train_y, val_X, val_y)\n",
    "trainer = Trainer(model, dataset, SGD(), learning_rate = 1e-2)\n",
    "\n",
    "# TODO Implement missing pieces in Trainer.fit function\n",
    "# You should expect loss to go down every epoch, even if it's slow\n",
    "loss_history, train_history, val_history = trainer.fit()"
   ]
  },
  {
   "cell_type": "code",
   "execution_count": 12,
   "metadata": {},
   "outputs": [
    {
     "data": {
      "text/plain": [
       "[<matplotlib.lines.Line2D at 0x126834cc348>]"
      ]
     },
     "execution_count": 12,
     "metadata": {},
     "output_type": "execute_result"
    },
    {
     "data": {
      "image/png": "[encoded data removed]",
      "text/plain": [
       "<Figure size 432x288 with 1 Axes>"
      ]
     },
     "metadata": {
      "needs_background": "light"
     },
     "output_type": "display_data"
    }
   ],
   "source": [
    "plt.plot(train_history)\n",
    "plt.plot(val_history)"
   ]
  },
  {
   "cell_type": "markdown",
   "metadata": {},
   "source": [
    "# Улучшаем процесс тренировки\n",
    "\n",
    "Мы реализуем несколько ключевых оптимизаций, необходимых для тренировки современных нейросетей."
   ]
  },
  {
   "cell_type": "markdown",
   "metadata": {},
   "source": [
    "## Уменьшение скорости обучения (learning rate decay)\n",
    "\n",
    "Одна из необходимых оптимизаций во время тренировки нейронных сетей - постепенное уменьшение скорости обучения по мере тренировки.\n",
    "\n",
    "Один из стандартных методов - уменьшение скорости обучения (learning rate) каждые N эпох на коэффициент d (часто называемый decay). Значения N и d, как всегда, являются гиперпараметрами и должны подбираться на основе эффективности на проверочных данных (validation data). \n",
    "\n",
    "В нашем случае N будет равным 1."
   ]
  },
  {
   "cell_type": "code",
   "execution_count": 10,
   "metadata": {},
   "outputs": [
    {
     "name": "stdout",
     "output_type": "stream",
     "text": [
      "Loss: 43.268685, Train accuracy: 0.244222, val accuracy: 0.253000\n",
      "Loss: 34.371266, Train accuracy: 0.388889, val accuracy: 0.415000\n",
      "Loss: 36.492828, Train accuracy: 0.446444, val accuracy: 0.457000\n",
      "Loss: 37.046245, Train accuracy: 0.511222, val accuracy: 0.525000\n",
      "Loss: 39.233755, Train accuracy: 0.495333, val accuracy: 0.506000\n",
      "Loss: 39.045584, Train accuracy: 0.579444, val accuracy: 0.574000\n",
      "Loss: 34.887343, Train accuracy: 0.548556, val accuracy: 0.558000\n",
      "Loss: 33.599379, Train accuracy: 0.556889, val accuracy: 0.556000\n",
      "Loss: 37.273219, Train accuracy: 0.514000, val accuracy: 0.493000\n",
      "Loss: 34.360432, Train accuracy: 0.567556, val accuracy: 0.565000\n",
      "Loss: 36.836394, Train accuracy: 0.608222, val accuracy: 0.601000\n",
      "Loss: 34.694721, Train accuracy: 0.593778, val accuracy: 0.564000\n",
      "Loss: 35.309617, Train accuracy: 0.591222, val accuracy: 0.570000\n",
      "Loss: 36.773243, Train accuracy: 0.637444, val accuracy: 0.623000\n",
      "Loss: 34.690199, Train accuracy: 0.589000, val accuracy: 0.560000\n",
      "Loss: 36.840934, Train accuracy: 0.563667, val accuracy: 0.574000\n",
      "Loss: 35.840167, Train accuracy: 0.607556, val accuracy: 0.607000\n",
      "Loss: 34.307293, Train accuracy: 0.602000, val accuracy: 0.592000\n",
      "Loss: 32.058030, Train accuracy: 0.582778, val accuracy: 0.587000\n",
      "Loss: 30.994244, Train accuracy: 0.606556, val accuracy: 0.570000\n"
     ]
    }
   ],
   "source": [
    "# TODO Implement learning rate decay inside Trainer.fit method\n",
    "# Decay should happen once per epoch\n",
    "\n",
    "model = TwoLayerNet(n_input = train_X.shape[1], n_output = 10, hidden_layer_size = 100, reg = 1e-1)\n",
    "dataset = Dataset(train_X, train_y, val_X, val_y)\n",
    "trainer = Trainer(model, dataset, SGD(), learning_rate_decay=0.99)\n",
    "\n",
    "initial_learning_rate = trainer.learning_rate\n",
    "loss_history, train_history, val_history = trainer.fit()\n",
    "\n",
    "assert trainer.learning_rate < initial_learning_rate, \"Learning rate should've been reduced\"\n",
    "assert trainer.learning_rate > 0.5*initial_learning_rate, \"Learning rate shouldn'tve been reduced that much!\""
   ]
  },
  {
   "cell_type": "markdown",
   "metadata": {},
   "source": [
    "# Накопление импульса (Momentum SGD)\n",
    "\n",
    "Другой большой класс оптимизаций - использование более эффективных методов градиентного спуска. Мы реализуем один из них - накопление импульса (Momentum SGD).\n",
    "\n",
    "Этот метод хранит скорость движения, использует градиент для ее изменения на каждом шаге, и изменяет веса пропорционально значению скорости.\n",
    "(Физическая аналогия: Вместо скорости градиенты теперь будут задавать ускорение, но будет присутствовать сила трения.)\n",
    "\n",
    "```\n",
    "velocity = momentum * velocity - learning_rate * gradient \n",
    "w = w + velocity\n",
    "```\n",
    "\n",
    "`momentum` здесь коэффициент затухания, который тоже является гиперпараметром (к счастью, для него часто есть хорошее значение по умолчанию, типичный диапазон -- 0.8-0.99).\n",
    "\n",
    "Несколько полезных ссылок, где метод разбирается более подробно:  \n",
    "http://cs231n.github.io/neural-networks-3/#sgd  \n",
    "https://distill.pub/2017/momentum/"
   ]
  },
  {
   "cell_type": "code",
   "execution_count": 18,
   "metadata": {},
   "outputs": [
    {
     "name": "stdout",
     "output_type": "stream",
     "text": [
      "Loss: 43.313023, Train accuracy: 0.196667, val accuracy: 0.206000\n",
      "Loss: 47.288580, Train accuracy: 0.196667, val accuracy: 0.206000\n",
      "Loss: 40.594084, Train accuracy: 0.196667, val accuracy: 0.206000\n",
      "Loss: 43.847434, Train accuracy: 0.196667, val accuracy: 0.206000\n",
      "Loss: 45.314180, Train accuracy: 0.196667, val accuracy: 0.206000\n",
      "Loss: 44.346688, Train accuracy: 0.196667, val accuracy: 0.206000\n",
      "Loss: 43.432561, Train accuracy: 0.196667, val accuracy: 0.206000\n",
      "Loss: 45.295835, Train accuracy: 0.233778, val accuracy: 0.230000\n",
      "Loss: 40.838456, Train accuracy: 0.268111, val accuracy: 0.271000\n",
      "Loss: 40.169634, Train accuracy: 0.312667, val accuracy: 0.321000\n",
      "Loss: 38.269435, Train accuracy: 0.352556, val accuracy: 0.355000\n",
      "Loss: 31.911152, Train accuracy: 0.402000, val accuracy: 0.400000\n",
      "Loss: 32.010635, Train accuracy: 0.441556, val accuracy: 0.441000\n",
      "Loss: 26.236755, Train accuracy: 0.467444, val accuracy: 0.477000\n",
      "Loss: 34.011911, Train accuracy: 0.507111, val accuracy: 0.505000\n",
      "Loss: 25.388382, Train accuracy: 0.537556, val accuracy: 0.533000\n",
      "Loss: 18.784254, Train accuracy: 0.552556, val accuracy: 0.550000\n",
      "Loss: 27.671250, Train accuracy: 0.578222, val accuracy: 0.575000\n",
      "Loss: 19.735307, Train accuracy: 0.602000, val accuracy: 0.595000\n",
      "Loss: 21.954682, Train accuracy: 0.615222, val accuracy: 0.614000\n"
     ]
    }
   ],
   "source": [
    "# TODO: Implement MomentumSGD.update function in optim.py\n",
    "\n",
    "model = TwoLayerNet(n_input = train_X.shape[1], n_output = 10, hidden_layer_size = 100, reg = 1e-2)\n",
    "dataset = Dataset(train_X, train_y, val_X, val_y)\n",
    "trainer = Trainer(model, dataset, MomentumSGD(), learning_rate=1e-4, learning_rate_decay=0.99)\n",
    "\n",
    "# You should see even better results than before!\n",
    "loss_history, train_history, val_history = trainer.fit()"
   ]
  },
  {
   "cell_type": "markdown",
   "metadata": {},
   "source": [
    "# Ну что, давайте уже тренировать сеть!"
   ]
  },
  {
   "cell_type": "markdown",
   "metadata": {},
   "source": [
    "## Последний тест - переобучимся (overfit) на маленьком наборе данных\n",
    "\n",
    "Хороший способ проверить, все ли реализовано корректно - переобучить сеть на маленьком наборе данных.  \n",
    "Наша модель обладает достаточной мощностью, чтобы приблизить маленький набор данных идеально, поэтому мы ожидаем, что на нем мы быстро дойдем до 100% точности на тренировочном наборе. \n",
    "\n",
    "Если этого не происходит, то где-то была допущена ошибка!"
   ]
  },
  {
   "cell_type": "code",
   "execution_count": 20,
   "metadata": {},
   "outputs": [
    {
     "name": "stdout",
     "output_type": "stream",
     "text": [
      "Loss: 11.534389, Train accuracy: 0.200000, val accuracy: 0.066667\n",
      "Loss: 11.475800, Train accuracy: 0.200000, val accuracy: 0.066667\n",
      "Loss: 11.557857, Train accuracy: 0.200000, val accuracy: 0.066667\n",
      "Loss: 11.484084, Train accuracy: 0.200000, val accuracy: 0.066667\n",
      "Loss: 11.442495, Train accuracy: 0.200000, val accuracy: 0.066667\n",
      "Loss: 11.345405, Train accuracy: 0.200000, val accuracy: 0.066667\n",
      "Loss: 11.393803, Train accuracy: 0.200000, val accuracy: 0.066667\n",
      "Loss: 11.381885, Train accuracy: 0.133333, val accuracy: 0.066667\n",
      "Loss: 11.343380, Train accuracy: 0.200000, val accuracy: 0.000000\n",
      "Loss: 11.226506, Train accuracy: 0.200000, val accuracy: 0.000000\n",
      "Loss: 11.074267, Train accuracy: 0.200000, val accuracy: 0.000000\n",
      "Loss: 11.204587, Train accuracy: 0.200000, val accuracy: 0.000000\n",
      "Loss: 11.292691, Train accuracy: 0.200000, val accuracy: 0.000000\n",
      "Loss: 11.338798, Train accuracy: 0.200000, val accuracy: 0.000000\n",
      "Loss: 11.000228, Train accuracy: 0.200000, val accuracy: 0.000000\n",
      "Loss: 11.228572, Train accuracy: 0.266667, val accuracy: 0.066667\n",
      "Loss: 11.129089, Train accuracy: 0.266667, val accuracy: 0.066667\n",
      "Loss: 11.202262, Train accuracy: 0.266667, val accuracy: 0.066667\n",
      "Loss: 11.077976, Train accuracy: 0.400000, val accuracy: 0.066667\n",
      "Loss: 10.635829, Train accuracy: 0.400000, val accuracy: 0.066667\n",
      "Loss: 11.190024, Train accuracy: 0.333333, val accuracy: 0.066667\n",
      "Loss: 9.802864, Train accuracy: 0.400000, val accuracy: 0.066667\n",
      "Loss: 9.348411, Train accuracy: 0.400000, val accuracy: 0.066667\n",
      "Loss: 11.206247, Train accuracy: 0.466667, val accuracy: 0.066667\n",
      "Loss: 9.934021, Train accuracy: 0.400000, val accuracy: 0.066667\n",
      "Loss: 5.846426, Train accuracy: 0.400000, val accuracy: 0.066667\n",
      "Loss: 9.868810, Train accuracy: 0.400000, val accuracy: 0.066667\n",
      "Loss: 8.567597, Train accuracy: 0.400000, val accuracy: 0.066667\n",
      "Loss: 9.354371, Train accuracy: 0.333333, val accuracy: 0.066667\n",
      "Loss: 8.668006, Train accuracy: 0.333333, val accuracy: 0.066667\n",
      "Loss: 10.420494, Train accuracy: 0.400000, val accuracy: 0.066667\n",
      "Loss: 8.920421, Train accuracy: 0.333333, val accuracy: 0.066667\n",
      "Loss: 10.332307, Train accuracy: 0.466667, val accuracy: 0.066667\n",
      "Loss: 9.345828, Train accuracy: 0.400000, val accuracy: 0.066667\n",
      "Loss: 9.349754, Train accuracy: 0.400000, val accuracy: 0.066667\n",
      "Loss: 7.089963, Train accuracy: 0.400000, val accuracy: 0.066667\n",
      "Loss: 6.902057, Train accuracy: 0.466667, val accuracy: 0.066667\n",
      "Loss: 5.908919, Train accuracy: 0.466667, val accuracy: 0.066667\n",
      "Loss: 8.647670, Train accuracy: 0.466667, val accuracy: 0.066667\n",
      "Loss: 8.854655, Train accuracy: 0.466667, val accuracy: 0.066667\n",
      "Loss: 7.125501, Train accuracy: 0.466667, val accuracy: 0.066667\n",
      "Loss: 8.619432, Train accuracy: 0.466667, val accuracy: 0.133333\n",
      "Loss: 8.180330, Train accuracy: 0.466667, val accuracy: 0.066667\n",
      "Loss: 6.586097, Train accuracy: 0.466667, val accuracy: 0.066667\n",
      "Loss: 6.852229, Train accuracy: 0.533333, val accuracy: 0.133333\n",
      "Loss: 6.949628, Train accuracy: 0.533333, val accuracy: 0.133333\n",
      "Loss: 5.849216, Train accuracy: 0.466667, val accuracy: 0.066667\n",
      "Loss: 6.281771, Train accuracy: 0.466667, val accuracy: 0.066667\n",
      "Loss: 5.670987, Train accuracy: 0.466667, val accuracy: 0.066667\n",
      "Loss: 9.908363, Train accuracy: 0.533333, val accuracy: 0.066667\n",
      "Loss: 4.557506, Train accuracy: 0.533333, val accuracy: 0.066667\n",
      "Loss: 4.941305, Train accuracy: 0.533333, val accuracy: 0.066667\n",
      "Loss: 6.827540, Train accuracy: 0.533333, val accuracy: 0.066667\n",
      "Loss: 7.751801, Train accuracy: 0.533333, val accuracy: 0.066667\n",
      "Loss: 8.545411, Train accuracy: 0.533333, val accuracy: 0.066667\n",
      "Loss: 5.949655, Train accuracy: 0.600000, val accuracy: 0.133333\n",
      "Loss: 7.908461, Train accuracy: 0.533333, val accuracy: 0.066667\n",
      "Loss: 5.750691, Train accuracy: 0.533333, val accuracy: 0.066667\n",
      "Loss: 5.862978, Train accuracy: 0.533333, val accuracy: 0.066667\n",
      "Loss: 6.360985, Train accuracy: 0.533333, val accuracy: 0.066667\n",
      "Loss: 6.509922, Train accuracy: 0.600000, val accuracy: 0.066667\n",
      "Loss: 5.236790, Train accuracy: 0.533333, val accuracy: 0.066667\n",
      "Loss: 4.311914, Train accuracy: 0.666667, val accuracy: 0.066667\n",
      "Loss: 4.183428, Train accuracy: 0.733333, val accuracy: 0.066667\n",
      "Loss: 3.900088, Train accuracy: 0.800000, val accuracy: 0.066667\n",
      "Loss: 5.494837, Train accuracy: 0.800000, val accuracy: 0.066667\n",
      "Loss: 5.467391, Train accuracy: 0.733333, val accuracy: 0.066667\n",
      "Loss: 3.724757, Train accuracy: 0.800000, val accuracy: 0.066667\n",
      "Loss: 3.200179, Train accuracy: 0.800000, val accuracy: 0.066667\n",
      "Loss: 7.661515, Train accuracy: 0.800000, val accuracy: 0.066667\n",
      "Loss: 5.412671, Train accuracy: 0.800000, val accuracy: 0.066667\n",
      "Loss: 5.268207, Train accuracy: 0.800000, val accuracy: 0.066667\n",
      "Loss: 4.157603, Train accuracy: 0.800000, val accuracy: 0.066667\n",
      "Loss: 2.120181, Train accuracy: 0.800000, val accuracy: 0.066667\n",
      "Loss: 2.875022, Train accuracy: 0.800000, val accuracy: 0.066667\n",
      "Loss: 5.876628, Train accuracy: 0.800000, val accuracy: 0.066667\n",
      "Loss: 3.482523, Train accuracy: 0.800000, val accuracy: 0.066667\n",
      "Loss: 5.069628, Train accuracy: 0.800000, val accuracy: 0.066667\n",
      "Loss: 5.025481, Train accuracy: 0.866667, val accuracy: 0.066667\n",
      "Loss: 5.251073, Train accuracy: 0.866667, val accuracy: 0.066667\n",
      "Loss: 0.816591, Train accuracy: 0.866667, val accuracy: 0.066667\n",
      "Loss: 6.712313, Train accuracy: 0.866667, val accuracy: 0.066667\n",
      "Loss: 4.206952, Train accuracy: 0.866667, val accuracy: 0.066667\n",
      "Loss: 2.418561, Train accuracy: 0.866667, val accuracy: 0.066667\n",
      "Loss: 0.628598, Train accuracy: 0.866667, val accuracy: 0.066667\n",
      "Loss: 4.142965, Train accuracy: 0.866667, val accuracy: 0.066667\n",
      "Loss: 5.273804, Train accuracy: 0.866667, val accuracy: 0.066667\n",
      "Loss: 2.186101, Train accuracy: 0.866667, val accuracy: 0.066667\n",
      "Loss: 1.110785, Train accuracy: 0.866667, val accuracy: 0.066667\n",
      "Loss: 4.077071, Train accuracy: 0.866667, val accuracy: 0.066667\n",
      "Loss: 1.354468, Train accuracy: 0.866667, val accuracy: 0.066667\n",
      "Loss: 2.876275, Train accuracy: 0.866667, val accuracy: 0.066667\n",
      "Loss: 0.826730, Train accuracy: 0.866667, val accuracy: 0.066667\n",
      "Loss: 2.754577, Train accuracy: 0.866667, val accuracy: 0.066667\n",
      "Loss: 4.469498, Train accuracy: 0.866667, val accuracy: 0.066667\n",
      "Loss: 0.783869, Train accuracy: 0.866667, val accuracy: 0.066667\n",
      "Loss: 2.021727, Train accuracy: 0.866667, val accuracy: 0.066667\n",
      "Loss: 2.803424, Train accuracy: 0.866667, val accuracy: 0.066667\n",
      "Loss: 4.453053, Train accuracy: 0.866667, val accuracy: 0.066667\n",
      "Loss: 2.152408, Train accuracy: 0.866667, val accuracy: 0.066667\n",
      "Loss: 1.995981, Train accuracy: 0.866667, val accuracy: 0.066667\n",
      "Loss: 4.831941, Train accuracy: 0.933333, val accuracy: 0.066667\n",
      "Loss: 0.360195, Train accuracy: 0.933333, val accuracy: 0.066667\n",
      "Loss: 3.596350, Train accuracy: 0.933333, val accuracy: 0.066667\n",
      "Loss: 2.121356, Train accuracy: 0.933333, val accuracy: 0.066667\n",
      "Loss: 2.535437, Train accuracy: 0.933333, val accuracy: 0.066667\n",
      "Loss: 2.442744, Train accuracy: 0.933333, val accuracy: 0.066667\n",
      "Loss: 4.118938, Train accuracy: 0.933333, val accuracy: 0.066667\n",
      "Loss: 3.958967, Train accuracy: 0.933333, val accuracy: 0.066667\n",
      "Loss: 3.994673, Train accuracy: 0.933333, val accuracy: 0.066667\n",
      "Loss: 1.979054, Train accuracy: 0.933333, val accuracy: 0.066667\n",
      "Loss: 1.864464, Train accuracy: 0.933333, val accuracy: 0.066667\n",
      "Loss: 4.267702, Train accuracy: 0.933333, val accuracy: 0.066667\n",
      "Loss: 0.412257, Train accuracy: 0.933333, val accuracy: 0.066667\n",
      "Loss: 1.952675, Train accuracy: 0.933333, val accuracy: 0.066667\n",
      "Loss: 1.193707, Train accuracy: 0.933333, val accuracy: 0.066667\n",
      "Loss: 0.385350, Train accuracy: 0.933333, val accuracy: 0.066667\n",
      "Loss: 0.750283, Train accuracy: 0.933333, val accuracy: 0.066667\n",
      "Loss: 0.236510, Train accuracy: 0.933333, val accuracy: 0.066667\n",
      "Loss: 2.276579, Train accuracy: 0.933333, val accuracy: 0.066667\n",
      "Loss: 2.533956, Train accuracy: 0.933333, val accuracy: 0.066667\n",
      "Loss: 0.302314, Train accuracy: 0.933333, val accuracy: 0.066667\n",
      "Loss: 1.196851, Train accuracy: 0.933333, val accuracy: 0.066667\n",
      "Loss: 0.411942, Train accuracy: 0.933333, val accuracy: 0.000000\n",
      "Loss: 0.381874, Train accuracy: 0.933333, val accuracy: 0.066667\n",
      "Loss: 0.521608, Train accuracy: 0.933333, val accuracy: 0.066667\n",
      "Loss: 1.288003, Train accuracy: 0.933333, val accuracy: 0.066667\n",
      "Loss: 2.861027, Train accuracy: 0.933333, val accuracy: 0.066667\n",
      "Loss: 2.152538, Train accuracy: 0.933333, val accuracy: 0.000000\n",
      "Loss: 2.469199, Train accuracy: 0.933333, val accuracy: 0.000000\n",
      "Loss: 2.215379, Train accuracy: 0.933333, val accuracy: 0.000000\n"
     ]
    },
    {
     "name": "stdout",
     "output_type": "stream",
     "text": [
      "Loss: 2.101211, Train accuracy: 0.933333, val accuracy: 0.000000\n",
      "Loss: 1.857547, Train accuracy: 0.933333, val accuracy: 0.000000\n",
      "Loss: 0.448747, Train accuracy: 0.933333, val accuracy: 0.000000\n",
      "Loss: 1.638670, Train accuracy: 0.933333, val accuracy: 0.000000\n",
      "Loss: 3.678959, Train accuracy: 0.933333, val accuracy: 0.000000\n",
      "Loss: 1.604081, Train accuracy: 0.933333, val accuracy: 0.000000\n",
      "Loss: 0.318802, Train accuracy: 0.933333, val accuracy: 0.000000\n",
      "Loss: 0.329901, Train accuracy: 0.933333, val accuracy: 0.000000\n",
      "Loss: 0.278808, Train accuracy: 0.933333, val accuracy: 0.000000\n",
      "Loss: 1.599002, Train accuracy: 0.933333, val accuracy: 0.000000\n",
      "Loss: 2.980681, Train accuracy: 0.933333, val accuracy: 0.000000\n",
      "Loss: 1.525937, Train accuracy: 0.933333, val accuracy: 0.000000\n",
      "Loss: 2.193842, Train accuracy: 0.933333, val accuracy: 0.000000\n",
      "Loss: 0.340054, Train accuracy: 0.933333, val accuracy: 0.000000\n",
      "Loss: 2.210981, Train accuracy: 1.000000, val accuracy: 0.000000\n",
      "Loss: 0.283495, Train accuracy: 1.000000, val accuracy: 0.000000\n",
      "Loss: 0.301281, Train accuracy: 1.000000, val accuracy: 0.000000\n",
      "Loss: 1.450845, Train accuracy: 1.000000, val accuracy: 0.000000\n",
      "Loss: 1.988848, Train accuracy: 1.000000, val accuracy: 0.000000\n"
     ]
    }
   ],
   "source": [
    "data_size = 15\n",
    "model = TwoLayerNet(n_input = train_X.shape[1], n_output = 10, hidden_layer_size = 100, reg = 1e-2)\n",
    "dataset = Dataset(train_X[:data_size], train_y[:data_size], val_X[:data_size], val_y[:data_size])\n",
    "trainer = Trainer(model, dataset, SGD(), learning_rate=1e-2, num_epochs=150, batch_size=5)\n",
    "\n",
    "# You should expect this to reach 1.0 training accuracy \n",
    "loss_history, train_history, val_history = trainer.fit()"
   ]
  },
  {
   "cell_type": "markdown",
   "metadata": {},
   "source": [
    "Теперь найдем гипепараметры, для которых этот процесс сходится быстрее.\n",
    "Если все реализовано корректно, то существуют параметры, при которых процесс сходится в **20** эпох или еще быстрее.\n",
    "Найдите их!"
   ]
  },
  {
   "cell_type": "code",
   "execution_count": 30,
   "metadata": {},
   "outputs": [
    {
     "name": "stdout",
     "output_type": "stream",
     "text": [
      "0.06-0.06-256\n",
      "Loss: 11.562751, Train accuracy: 0.266667, val accuracy: 0.066667\n",
      "Loss: 11.442711, Train accuracy: 0.200000, val accuracy: 0.066667\n",
      "Loss: 11.242043, Train accuracy: 0.266667, val accuracy: 0.066667\n",
      "Loss: 11.066825, Train accuracy: 0.200000, val accuracy: 0.066667\n",
      "Loss: 11.104100, Train accuracy: 0.266667, val accuracy: 0.066667\n",
      "Loss: 10.905264, Train accuracy: 0.333333, val accuracy: 0.000000\n",
      "Loss: 8.172086, Train accuracy: 0.466667, val accuracy: 0.000000\n",
      "Loss: 12.720833, Train accuracy: 0.400000, val accuracy: 0.000000\n",
      "Loss: 10.399654, Train accuracy: 0.400000, val accuracy: 0.000000\n",
      "Loss: 8.469296, Train accuracy: 0.533333, val accuracy: 0.000000\n",
      "Loss: 8.961447, Train accuracy: 0.600000, val accuracy: 0.000000\n",
      "Loss: 11.449193, Train accuracy: 0.533333, val accuracy: 0.000000\n",
      "Loss: 6.612230, Train accuracy: 0.466667, val accuracy: 0.066667\n",
      "Loss: 6.483799, Train accuracy: 0.733333, val accuracy: 0.066667\n",
      "Loss: 5.377295, Train accuracy: 0.733333, val accuracy: 0.066667\n",
      "Loss: 2.949387, Train accuracy: 0.733333, val accuracy: 0.000000\n",
      "Loss: 5.016604, Train accuracy: 0.933333, val accuracy: 0.066667\n",
      "Loss: 6.550292, Train accuracy: 1.000000, val accuracy: 0.066667\n",
      "Loss: 1.204860, Train accuracy: 0.933333, val accuracy: 0.066667\n",
      "Loss: 2.417701, Train accuracy: 1.000000, val accuracy: 0.066667\n",
      "0.06-0.06-512\n",
      "Loss: 11.673944, Train accuracy: 0.200000, val accuracy: 0.133333\n",
      "Loss: 11.816964, Train accuracy: 0.200000, val accuracy: 0.133333\n",
      "Loss: 10.855028, Train accuracy: 0.266667, val accuracy: 0.066667\n",
      "Loss: 10.785621, Train accuracy: 0.266667, val accuracy: 0.066667\n",
      "Loss: 9.067352, Train accuracy: 0.400000, val accuracy: 0.066667\n",
      "Loss: 8.835664, Train accuracy: 0.200000, val accuracy: 0.200000\n",
      "Loss: 7.228997, Train accuracy: 0.466667, val accuracy: 0.066667\n",
      "Loss: 10.843957, Train accuracy: 0.333333, val accuracy: 0.200000\n",
      "Loss: 6.974068, Train accuracy: 0.466667, val accuracy: 0.066667\n",
      "Loss: 6.802162, Train accuracy: 0.466667, val accuracy: 0.133333\n",
      "Loss: 9.521159, Train accuracy: 0.400000, val accuracy: 0.066667\n",
      "Loss: 10.174015, Train accuracy: 0.466667, val accuracy: 0.133333\n",
      "Loss: 19.018532, Train accuracy: 0.266667, val accuracy: 0.133333\n",
      "Loss: 15.127720, Train accuracy: 0.466667, val accuracy: 0.133333\n",
      "Loss: 6.323340, Train accuracy: 0.733333, val accuracy: 0.000000\n",
      "Loss: 1.591151, Train accuracy: 0.800000, val accuracy: 0.000000\n",
      "Loss: 5.983033, Train accuracy: 0.800000, val accuracy: 0.000000\n",
      "Loss: 7.238306, Train accuracy: 0.866667, val accuracy: 0.000000\n",
      "Loss: 3.398120, Train accuracy: 0.933333, val accuracy: 0.000000\n",
      "Loss: 2.264437, Train accuracy: 1.000000, val accuracy: 0.000000\n",
      "0.06-0.01-256\n",
      "Loss: 11.585675, Train accuracy: 0.200000, val accuracy: 0.066667\n",
      "Loss: 11.626470, Train accuracy: 0.266667, val accuracy: 0.066667\n",
      "Loss: 10.989314, Train accuracy: 0.266667, val accuracy: 0.000000\n",
      "Loss: 11.663609, Train accuracy: 0.400000, val accuracy: 0.000000\n",
      "Loss: 11.086510, Train accuracy: 0.333333, val accuracy: 0.066667\n",
      "Loss: 10.594260, Train accuracy: 0.400000, val accuracy: 0.000000\n",
      "Loss: 11.227848, Train accuracy: 0.466667, val accuracy: 0.000000\n",
      "Loss: 14.097959, Train accuracy: 0.333333, val accuracy: 0.133333\n",
      "Loss: 12.032678, Train accuracy: 0.333333, val accuracy: 0.066667\n",
      "Loss: 13.969650, Train accuracy: 0.333333, val accuracy: 0.000000\n",
      "Loss: 29.922002, Train accuracy: 0.533333, val accuracy: 0.000000\n",
      "Loss: 10.790099, Train accuracy: 0.400000, val accuracy: 0.000000\n",
      "Loss: 14.155312, Train accuracy: 0.333333, val accuracy: 0.066667\n",
      "Loss: 28.290595, Train accuracy: 0.466667, val accuracy: 0.000000\n",
      "Loss: 13.843250, Train accuracy: 0.666667, val accuracy: 0.000000\n",
      "Loss: 4.774539, Train accuracy: 0.666667, val accuracy: 0.000000\n",
      "Loss: 9.900644, Train accuracy: 0.800000, val accuracy: 0.000000\n",
      "Loss: 6.084096, Train accuracy: 0.866667, val accuracy: 0.000000\n",
      "Loss: 2.571341, Train accuracy: 0.933333, val accuracy: 0.000000\n",
      "Loss: 0.544885, Train accuracy: 1.000000, val accuracy: 0.066667\n",
      "0.06-0.01-512\n",
      "Loss: 11.597594, Train accuracy: 0.333333, val accuracy: 0.066667\n",
      "Loss: 11.396039, Train accuracy: 0.266667, val accuracy: 0.066667\n",
      "Loss: 11.132223, Train accuracy: 0.400000, val accuracy: 0.066667\n",
      "Loss: 9.639668, Train accuracy: 0.333333, val accuracy: 0.066667\n",
      "Loss: 10.916838, Train accuracy: 0.333333, val accuracy: 0.066667\n",
      "Loss: 5.536721, Train accuracy: 0.200000, val accuracy: 0.066667\n",
      "Loss: 8.045706, Train accuracy: 0.400000, val accuracy: 0.066667\n",
      "Loss: 8.144550, Train accuracy: 0.333333, val accuracy: 0.200000\n",
      "Loss: 11.652748, Train accuracy: 0.200000, val accuracy: 0.200000\n",
      "Loss: 41.357466, Train accuracy: 0.266667, val accuracy: 0.066667\n",
      "Loss: 45.774450, Train accuracy: 0.200000, val accuracy: 0.066667\n",
      "Loss: 45.345437, Train accuracy: 0.266667, val accuracy: 0.000000\n",
      "Loss: 21.724775, Train accuracy: 0.266667, val accuracy: 0.066667\n",
      "Loss: 30.672999, Train accuracy: 0.333333, val accuracy: 0.066667\n",
      "Loss: 14.605548, Train accuracy: 0.533333, val accuracy: 0.000000\n",
      "Loss: 9.221088, Train accuracy: 0.600000, val accuracy: 0.066667\n",
      "Loss: 4.089433, Train accuracy: 0.666667, val accuracy: 0.000000\n",
      "Loss: 10.161704, Train accuracy: 0.866667, val accuracy: 0.133333\n",
      "Loss: 4.122685, Train accuracy: 0.866667, val accuracy: 0.066667\n",
      "Loss: 1.754724, Train accuracy: 1.000000, val accuracy: 0.066667\n",
      "0.1-0.06-256\n",
      "Loss: 11.658403, Train accuracy: 0.200000, val accuracy: 0.066667\n",
      "Loss: 11.000848, Train accuracy: 0.400000, val accuracy: 0.133333\n",
      "Loss: 11.941983, Train accuracy: 0.266667, val accuracy: 0.066667\n",
      "Loss: 9.852697, Train accuracy: 0.333333, val accuracy: 0.066667\n",
      "Loss: 49.746581, Train accuracy: 0.133333, val accuracy: 0.200000\n",
      "Loss: 32.240744, Train accuracy: 0.200000, val accuracy: 0.000000\n",
      "Loss: 25.587189, Train accuracy: 0.266667, val accuracy: 0.066667\n",
      "Loss: 497.885000, Train accuracy: 0.133333, val accuracy: 0.200000\n",
      "Loss: inf, Train accuracy: 0.266667, val accuracy: 0.133333\n",
      "Loss: inf, Train accuracy: 0.000000, val accuracy: 0.266667\n",
      "Loss: inf, Train accuracy: 0.200000, val accuracy: 0.133333\n",
      "Loss: inf, Train accuracy: 0.133333, val accuracy: 0.133333\n",
      "Loss: inf, Train accuracy: 0.200000, val accuracy: 0.200000\n",
      "Loss: inf, Train accuracy: 0.266667, val accuracy: 0.200000\n",
      "Loss: inf, Train accuracy: 0.266667, val accuracy: 0.133333\n",
      "Loss: inf, Train accuracy: 0.133333, val accuracy: 0.200000\n",
      "Loss: inf, Train accuracy: 0.133333, val accuracy: 0.066667\n",
      "Loss: inf, Train accuracy: 0.200000, val accuracy: 0.133333\n",
      "Loss: inf, Train accuracy: 0.133333, val accuracy: 0.000000\n",
      "Loss: inf, Train accuracy: 0.066667, val accuracy: 0.000000\n",
      "0.1-0.06-512\n",
      "Loss: 11.703148, Train accuracy: 0.200000, val accuracy: 0.066667\n",
      "Loss: 11.233549, Train accuracy: 0.266667, val accuracy: 0.066667\n",
      "Loss: 14.101715, Train accuracy: 0.133333, val accuracy: 0.266667\n",
      "Loss: 8.524751, Train accuracy: 0.266667, val accuracy: 0.133333\n",
      "Loss: 31.739119, Train accuracy: 0.200000, val accuracy: 0.066667\n",
      "Loss: 21.607263, Train accuracy: 0.266667, val accuracy: 0.133333\n",
      "Loss: 18.770133, Train accuracy: 0.333333, val accuracy: 0.133333\n",
      "Loss: 107.047257, Train accuracy: 0.400000, val accuracy: 0.000000\n",
      "Loss: 215.543968, Train accuracy: 0.066667, val accuracy: 0.133333\n",
      "Loss: 270.900268, Train accuracy: 0.200000, val accuracy: 0.066667\n",
      "Loss: 1255.806828, Train accuracy: 0.200000, val accuracy: 0.066667\n",
      "Loss: 1076.876909, Train accuracy: 0.200000, val accuracy: 0.200000\n",
      "Loss: inf, Train accuracy: 0.066667, val accuracy: 0.200000\n",
      "Loss: inf, Train accuracy: 0.266667, val accuracy: 0.133333\n",
      "Loss: inf, Train accuracy: 0.066667, val accuracy: 0.200000\n",
      "Loss: inf, Train accuracy: 0.200000, val accuracy: 0.133333\n",
      "Loss: inf, Train accuracy: 0.133333, val accuracy: 0.133333\n",
      "Loss: inf, Train accuracy: 0.133333, val accuracy: 0.066667\n",
      "Loss: inf, Train accuracy: 0.133333, val accuracy: 0.133333\n",
      "Loss: inf, Train accuracy: 0.133333, val accuracy: 0.133333\n",
      "0.1-0.01-256\n",
      "Loss: 11.639171, Train accuracy: 0.200000, val accuracy: 0.066667\n",
      "Loss: 11.358533, Train accuracy: 0.200000, val accuracy: 0.133333\n",
      "Loss: 11.308696, Train accuracy: 0.200000, val accuracy: 0.133333\n",
      "Loss: 11.663478, Train accuracy: 0.200000, val accuracy: 0.066667\n",
      "Loss: 9.468402, Train accuracy: 0.333333, val accuracy: 0.066667\n"
     ]
    },
    {
     "name": "stdout",
     "output_type": "stream",
     "text": [
      "Loss: 40.319042, Train accuracy: 0.266667, val accuracy: 0.133333\n",
      "Loss: 42.765354, Train accuracy: 0.133333, val accuracy: 0.133333\n",
      "Loss: inf, Train accuracy: 0.200000, val accuracy: 0.066667\n",
      "Loss: inf, Train accuracy: 0.066667, val accuracy: 0.266667\n",
      "Loss: inf, Train accuracy: 0.133333, val accuracy: 0.066667\n",
      "Loss: inf, Train accuracy: 0.200000, val accuracy: 0.066667\n",
      "Loss: inf, Train accuracy: 0.133333, val accuracy: 0.133333\n",
      "Loss: inf, Train accuracy: 0.066667, val accuracy: 0.066667\n",
      "Loss: inf, Train accuracy: 0.200000, val accuracy: 0.000000\n",
      "Loss: inf, Train accuracy: 0.200000, val accuracy: 0.133333\n",
      "Loss: inf, Train accuracy: 0.266667, val accuracy: 0.266667\n",
      "Loss: inf, Train accuracy: 0.000000, val accuracy: 0.000000\n",
      "Loss: inf, Train accuracy: 0.266667, val accuracy: 0.000000\n",
      "Loss: inf, Train accuracy: 0.066667, val accuracy: 0.066667\n",
      "Loss: inf, Train accuracy: 0.133333, val accuracy: 0.266667\n",
      "0.1-0.01-512\n",
      "Loss: 11.639813, Train accuracy: 0.200000, val accuracy: 0.133333\n",
      "Loss: 11.591682, Train accuracy: 0.200000, val accuracy: 0.133333\n",
      "Loss: 11.779890, Train accuracy: 0.133333, val accuracy: 0.133333\n",
      "Loss: 11.520942, Train accuracy: 0.200000, val accuracy: 0.133333\n",
      "Loss: 13.080443, Train accuracy: 0.200000, val accuracy: 0.066667\n",
      "Loss: 23.927707, Train accuracy: 0.333333, val accuracy: 0.066667\n",
      "Loss: 11.541778, Train accuracy: 0.200000, val accuracy: 0.200000\n",
      "Loss: 10.192105, Train accuracy: 0.400000, val accuracy: 0.133333\n",
      "Loss: 12.709656, Train accuracy: 0.533333, val accuracy: 0.133333\n",
      "Loss: 14.320674, Train accuracy: 0.333333, val accuracy: 0.200000\n",
      "Loss: 365.169126, Train accuracy: 0.066667, val accuracy: 0.133333\n",
      "Loss: 677.363653, Train accuracy: 0.333333, val accuracy: 0.000000\n",
      "Loss: inf, Train accuracy: 0.066667, val accuracy: 0.066667\n",
      "Loss: inf, Train accuracy: 0.266667, val accuracy: 0.066667\n",
      "Loss: inf, Train accuracy: 0.200000, val accuracy: 0.266667\n",
      "Loss: inf, Train accuracy: 0.266667, val accuracy: 0.000000\n",
      "Loss: inf, Train accuracy: 0.333333, val accuracy: 0.066667\n",
      "Loss: inf, Train accuracy: 0.200000, val accuracy: 0.000000\n",
      "Loss: inf, Train accuracy: 0.333333, val accuracy: 0.066667\n",
      "Loss: inf, Train accuracy: 0.266667, val accuracy: 0.200000\n"
     ]
    }
   ],
   "source": [
    "# Now, tweak some hyper parameters and make it train to 1.0 accuracy in 20 epochs or less\n",
    "params = {\n",
    "    \"lr\": [0.06, 0.1],\n",
    "    \"reg\": [0.06, 0.01],\n",
    "    \"hlsize\": [256, 512]\n",
    "}\n",
    "for lr in params[\"lr\"]:\n",
    "    for reg in params[\"reg\"]:\n",
    "        for hlsize in params[\"hlsize\"]:\n",
    "            print(f\"{lr}-{reg}-{hlsize}\")\n",
    "            model = TwoLayerNet(n_input = train_X.shape[1], n_output = 10, hidden_layer_size = hlsize, reg = reg)\n",
    "            dataset = Dataset(train_X[:data_size], train_y[:data_size], val_X[:data_size], val_y[:data_size])\n",
    "            trainer = Trainer(model, dataset, SGD(), learning_rate=lr, num_epochs=20, batch_size=5)\n",
    "            loss_history, train_history, val_history = trainer.fit()"
   ]
  },
  {
   "cell_type": "markdown",
   "metadata": {},
   "source": [
    "# Итак, основное мероприятие!\n",
    "\n",
    "Натренируйте лучшую нейросеть! Можно добавлять и изменять параметры, менять количество нейронов в слоях сети и как угодно экспериментировать. \n",
    "\n",
    "Добейтесь точности лучше **60%** на validation set."
   ]
  },
  {
   "cell_type": "code",
   "execution_count": 49,
   "metadata": {
    "scrolled": true
   },
   "outputs": [
    {
     "name": "stdout",
     "output_type": "stream",
     "text": [
      "Model 0.0001-0.01-0.9-64-5-128\n",
      "Loss: 86.887477, Train accuracy: 0.196667, val accuracy: 0.206000\n",
      "Loss: 92.746268, Train accuracy: 0.196667, val accuracy: 0.206000\n",
      "Loss: 89.118072, Train accuracy: 0.196667, val accuracy: 0.206000\n",
      "Loss: 88.450312, Train accuracy: 0.196667, val accuracy: 0.206000\n",
      "Loss: 79.989343, Train accuracy: 0.233222, val accuracy: 0.237000\n",
      "Model 0.0001-0.01-0.9-64-5-256\n",
      "Loss: 92.123335, Train accuracy: 0.196667, val accuracy: 0.206000\n",
      "Loss: 89.830825, Train accuracy: 0.196667, val accuracy: 0.206000\n",
      "Loss: 89.042661, Train accuracy: 0.196667, val accuracy: 0.206000\n",
      "Loss: 85.983626, Train accuracy: 0.196667, val accuracy: 0.206000\n",
      "Loss: 93.065057, Train accuracy: 0.215111, val accuracy: 0.227000\n",
      "Model 0.0001-0.01-0.9-128-5-128\n",
      "Loss: 89.148586, Train accuracy: 0.196667, val accuracy: 0.206000\n",
      "Loss: 86.041209, Train accuracy: 0.196667, val accuracy: 0.206000\n",
      "Loss: 85.420426, Train accuracy: 0.196667, val accuracy: 0.206000\n",
      "Loss: 87.907107, Train accuracy: 0.196667, val accuracy: 0.206000\n",
      "Loss: 78.990196, Train accuracy: 0.241444, val accuracy: 0.243000\n",
      "Model 0.0001-0.01-0.9-128-5-256\n",
      "Loss: 89.648457, Train accuracy: 0.196667, val accuracy: 0.206000\n",
      "Loss: 88.844546, Train accuracy: 0.196667, val accuracy: 0.206000\n",
      "Loss: 88.360151, Train accuracy: 0.196667, val accuracy: 0.206000\n",
      "Loss: 81.892398, Train accuracy: 0.196667, val accuracy: 0.206000\n",
      "Loss: 87.567303, Train accuracy: 0.216111, val accuracy: 0.219000\n",
      "Model 0.0001-0.001-0.9-64-5-128\n",
      "Loss: 92.543822, Train accuracy: 0.196667, val accuracy: 0.206000\n",
      "Loss: 91.079191, Train accuracy: 0.196667, val accuracy: 0.206000\n",
      "Loss: 88.679815, Train accuracy: 0.196667, val accuracy: 0.206000\n",
      "Loss: 87.362617, Train accuracy: 0.196667, val accuracy: 0.206000\n",
      "Loss: 83.426563, Train accuracy: 0.247111, val accuracy: 0.249000\n",
      "Model 0.0001-0.001-0.9-64-5-256\n",
      "Loss: 92.293542, Train accuracy: 0.196667, val accuracy: 0.206000\n",
      "Loss: 92.588801, Train accuracy: 0.196667, val accuracy: 0.206000\n",
      "Loss: 87.452862, Train accuracy: 0.196667, val accuracy: 0.206000\n",
      "Loss: 89.402050, Train accuracy: 0.196667, val accuracy: 0.206000\n",
      "Loss: 90.729676, Train accuracy: 0.207778, val accuracy: 0.214000\n",
      "Model 0.0001-0.001-0.9-128-5-128\n",
      "Loss: 90.712159, Train accuracy: 0.196667, val accuracy: 0.206000\n",
      "Loss: 87.694844, Train accuracy: 0.196667, val accuracy: 0.206000\n",
      "Loss: 89.333249, Train accuracy: 0.196667, val accuracy: 0.206000\n",
      "Loss: 86.918336, Train accuracy: 0.196667, val accuracy: 0.206000\n",
      "Loss: 79.601024, Train accuracy: 0.247444, val accuracy: 0.252000\n",
      "Model 0.0001-0.001-0.9-128-5-256\n",
      "Loss: 90.102426, Train accuracy: 0.196667, val accuracy: 0.206000\n",
      "Loss: 88.816941, Train accuracy: 0.196667, val accuracy: 0.206000\n",
      "Loss: 87.120428, Train accuracy: 0.196667, val accuracy: 0.206000\n",
      "Loss: 85.638629, Train accuracy: 0.196667, val accuracy: 0.206000\n",
      "Loss: 88.218800, Train accuracy: 0.204778, val accuracy: 0.213000\n",
      "Model 0.0001-0.0001-0.9-64-5-128\n",
      "Loss: 85.855182, Train accuracy: 0.196667, val accuracy: 0.206000\n",
      "Loss: 92.664538, Train accuracy: 0.196667, val accuracy: 0.206000\n",
      "Loss: 88.404596, Train accuracy: 0.196667, val accuracy: 0.206000\n",
      "Loss: 90.959474, Train accuracy: 0.196667, val accuracy: 0.206000\n",
      "Loss: 80.547916, Train accuracy: 0.244333, val accuracy: 0.247000\n",
      "Model 0.0001-0.0001-0.9-64-5-256\n",
      "Loss: 94.485882, Train accuracy: 0.196667, val accuracy: 0.206000\n",
      "Loss: 86.349598, Train accuracy: 0.196667, val accuracy: 0.206000\n",
      "Loss: 87.384765, Train accuracy: 0.196667, val accuracy: 0.206000\n",
      "Loss: 92.091700, Train accuracy: 0.196667, val accuracy: 0.206000\n",
      "Loss: 82.858156, Train accuracy: 0.207333, val accuracy: 0.215000\n",
      "Model 0.0001-0.0001-0.9-128-5-128\n",
      "Loss: 88.770131, Train accuracy: 0.196667, val accuracy: 0.206000\n",
      "Loss: 91.494903, Train accuracy: 0.196667, val accuracy: 0.206000\n",
      "Loss: 86.593755, Train accuracy: 0.196667, val accuracy: 0.206000\n",
      "Loss: 88.340504, Train accuracy: 0.196667, val accuracy: 0.206000\n",
      "Loss: 83.438742, Train accuracy: 0.235000, val accuracy: 0.238000\n",
      "Model 0.0001-0.0001-0.9-128-5-256\n",
      "Loss: 88.452262, Train accuracy: 0.196667, val accuracy: 0.206000\n",
      "Loss: 84.306582, Train accuracy: 0.196667, val accuracy: 0.206000\n",
      "Loss: 85.287160, Train accuracy: 0.196667, val accuracy: 0.206000\n",
      "Loss: 87.071159, Train accuracy: 0.196667, val accuracy: 0.206000\n",
      "Loss: 85.930928, Train accuracy: 0.207111, val accuracy: 0.217000\n",
      "Model 0.00055-0.01-0.9-64-5-128\n",
      "Loss: 89.951975, Train accuracy: 0.196667, val accuracy: 0.206000\n",
      "Loss: 79.626584, Train accuracy: 0.359111, val accuracy: 0.353000\n",
      "Loss: 43.334375, Train accuracy: 0.544222, val accuracy: 0.541000\n",
      "Loss: 47.784525, Train accuracy: 0.605556, val accuracy: 0.608000\n",
      "Loss: 44.271547, Train accuracy: 0.665000, val accuracy: 0.634000\n",
      "Model 0.00055-0.01-0.9-64-5-256\n",
      "Loss: 89.438433, Train accuracy: 0.196667, val accuracy: 0.206000\n",
      "Loss: 76.766780, Train accuracy: 0.282111, val accuracy: 0.293000\n",
      "Loss: 68.257409, Train accuracy: 0.437556, val accuracy: 0.444000\n",
      "Loss: 49.262670, Train accuracy: 0.582444, val accuracy: 0.578000\n",
      "Loss: 47.582591, Train accuracy: 0.571111, val accuracy: 0.564000\n",
      "Model 0.00055-0.01-0.9-128-5-128\n",
      "Loss: 90.014083, Train accuracy: 0.196667, val accuracy: 0.206000\n",
      "Loss: 76.466616, Train accuracy: 0.409000, val accuracy: 0.415000\n",
      "Loss: 55.920504, Train accuracy: 0.547111, val accuracy: 0.543000\n",
      "Loss: 53.052189, Train accuracy: 0.638556, val accuracy: 0.634000\n",
      "Loss: 51.889163, Train accuracy: 0.649111, val accuracy: 0.622000\n",
      "Model 0.00055-0.01-0.9-128-5-256\n",
      "Loss: 89.418576, Train accuracy: 0.196667, val accuracy: 0.206000\n",
      "Loss: 70.699551, Train accuracy: 0.286889, val accuracy: 0.297000\n",
      "Loss: 59.241859, Train accuracy: 0.446111, val accuracy: 0.478000\n",
      "Loss: 58.296756, Train accuracy: 0.547111, val accuracy: 0.546000\n",
      "Loss: 61.706880, Train accuracy: 0.603222, val accuracy: 0.596000\n",
      "Model 0.00055-0.001-0.9-64-5-128\n",
      "Loss: 88.004120, Train accuracy: 0.196667, val accuracy: 0.206000\n",
      "Loss: 71.948482, Train accuracy: 0.394444, val accuracy: 0.404000\n",
      "Loss: 59.247694, Train accuracy: 0.524222, val accuracy: 0.533000\n",
      "Loss: 53.543872, Train accuracy: 0.640667, val accuracy: 0.613000\n",
      "Loss: 42.513902, Train accuracy: 0.683778, val accuracy: 0.650000\n",
      "Model 0.00055-0.001-0.9-64-5-256\n",
      "Loss: 89.757154, Train accuracy: 0.196667, val accuracy: 0.206000\n",
      "Loss: 79.389508, Train accuracy: 0.291222, val accuracy: 0.295000\n",
      "Loss: 67.714992, Train accuracy: 0.467889, val accuracy: 0.460000\n",
      "Loss: 39.350385, Train accuracy: 0.571889, val accuracy: 0.570000\n",
      "Loss: 32.823230, Train accuracy: 0.639556, val accuracy: 0.611000\n",
      "Model 0.00055-0.001-0.9-128-5-128\n",
      "Loss: 89.682140, Train accuracy: 0.196667, val accuracy: 0.206000\n",
      "Loss: 76.762085, Train accuracy: 0.397556, val accuracy: 0.397000\n",
      "Loss: 54.691367, Train accuracy: 0.547889, val accuracy: 0.536000\n",
      "Loss: 60.631911, Train accuracy: 0.624444, val accuracy: 0.614000\n",
      "Loss: 44.119949, Train accuracy: 0.674778, val accuracy: 0.641000\n",
      "Model 0.00055-0.001-0.9-128-5-256\n",
      "Loss: 89.065496, Train accuracy: 0.196667, val accuracy: 0.206000\n",
      "Loss: 81.063857, Train accuracy: 0.303444, val accuracy: 0.311000\n",
      "Loss: 65.221760, Train accuracy: 0.493111, val accuracy: 0.476000\n",
      "Loss: 54.872983, Train accuracy: 0.607333, val accuracy: 0.595000\n",
      "Loss: 35.895350, Train accuracy: 0.636556, val accuracy: 0.612000\n",
      "Model 0.00055-0.0001-0.9-64-5-128\n",
      "Loss: 91.091588, Train accuracy: 0.196667, val accuracy: 0.206000\n",
      "Loss: 81.926082, Train accuracy: 0.381889, val accuracy: 0.377000\n",
      "Loss: 51.102935, Train accuracy: 0.542000, val accuracy: 0.536000\n",
      "Loss: 47.225721, Train accuracy: 0.626333, val accuracy: 0.620000\n",
      "Loss: 39.670505, Train accuracy: 0.663222, val accuracy: 0.642000\n",
      "Model 0.00055-0.0001-0.9-64-5-256\n",
      "Loss: 93.237349, Train accuracy: 0.196667, val accuracy: 0.206000\n",
      "Loss: 83.192447, Train accuracy: 0.294111, val accuracy: 0.298000\n",
      "Loss: 58.372868, Train accuracy: 0.498444, val accuracy: 0.487000\n",
      "Loss: 59.045607, Train accuracy: 0.601222, val accuracy: 0.607000\n",
      "Loss: 46.870430, Train accuracy: 0.652667, val accuracy: 0.623000\n",
      "Model 0.00055-0.0001-0.9-128-5-128\n",
      "Loss: 87.231070, Train accuracy: 0.196667, val accuracy: 0.206000\n",
      "Loss: 60.530341, Train accuracy: 0.413889, val accuracy: 0.396000\n",
      "Loss: 48.570904, Train accuracy: 0.519778, val accuracy: 0.519000\n"
     ]
    },
    {
     "name": "stdout",
     "output_type": "stream",
     "text": [
      "Loss: 64.530261, Train accuracy: 0.584333, val accuracy: 0.568000\n",
      "Loss: 47.654621, Train accuracy: 0.666000, val accuracy: 0.656000\n",
      "Model 0.00055-0.0001-0.9-128-5-256\n",
      "Loss: 84.737732, Train accuracy: 0.196667, val accuracy: 0.206000\n",
      "Loss: 80.143335, Train accuracy: 0.297333, val accuracy: 0.310000\n",
      "Loss: 55.929448, Train accuracy: 0.507222, val accuracy: 0.504000\n",
      "Loss: 47.384593, Train accuracy: 0.567667, val accuracy: 0.574000\n",
      "Loss: 42.229244, Train accuracy: 0.640111, val accuracy: 0.614000\n",
      "Model 0.001-0.01-0.9-64-5-128\n",
      "Loss: 78.597055, Train accuracy: 0.269111, val accuracy: 0.282000\n",
      "Loss: 64.529624, Train accuracy: 0.479333, val accuracy: 0.478000\n",
      "Loss: 58.038125, Train accuracy: 0.572222, val accuracy: 0.551000\n",
      "Loss: 51.643723, Train accuracy: 0.609778, val accuracy: 0.607000\n",
      "Loss: 36.259321, Train accuracy: 0.640111, val accuracy: 0.613000\n",
      "Model 0.001-0.01-0.9-64-5-256\n",
      "Loss: 91.911601, Train accuracy: 0.208222, val accuracy: 0.213000\n",
      "Loss: 71.508331, Train accuracy: 0.387000, val accuracy: 0.401000\n",
      "Loss: 90.103878, Train accuracy: 0.436778, val accuracy: 0.430000\n",
      "Loss: 4354.672007, Train accuracy: 0.207222, val accuracy: 0.213000\n",
      "Loss: inf, Train accuracy: 0.066556, val accuracy: 0.064000\n",
      "Model 0.001-0.01-0.9-128-5-128\n",
      "Loss: 78.968965, Train accuracy: 0.277444, val accuracy: 0.287000\n",
      "Loss: 67.114376, Train accuracy: 0.496444, val accuracy: 0.487000\n",
      "Loss: 38.991709, Train accuracy: 0.553000, val accuracy: 0.547000\n",
      "Loss: 45.666147, Train accuracy: 0.635556, val accuracy: 0.631000\n",
      "Loss: 33.268519, Train accuracy: 0.669333, val accuracy: 0.637000\n",
      "Model 0.001-0.01-0.9-128-5-256\n",
      "Loss: 90.592649, Train accuracy: 0.196778, val accuracy: 0.206000\n",
      "Loss: 69.905668, Train accuracy: 0.443333, val accuracy: 0.459000\n",
      "Loss: 66.187120, Train accuracy: 0.414889, val accuracy: 0.440000\n",
      "Loss: 1526.466969, Train accuracy: 0.178889, val accuracy: 0.182000\n",
      "Loss: inf, Train accuracy: 0.172778, val accuracy: 0.171000\n",
      "Model 0.001-0.001-0.9-64-5-128\n",
      "Loss: 86.832645, Train accuracy: 0.290667, val accuracy: 0.302000\n",
      "Loss: 61.867186, Train accuracy: 0.477889, val accuracy: 0.505000\n",
      "Loss: 62.015001, Train accuracy: 0.575000, val accuracy: 0.562000\n",
      "Loss: 50.645410, Train accuracy: 0.626889, val accuracy: 0.575000\n",
      "Loss: 64.876782, Train accuracy: 0.618778, val accuracy: 0.576000\n",
      "Model 0.001-0.001-0.9-64-5-256\n",
      "Loss: 86.828708, Train accuracy: 0.212778, val accuracy: 0.223000\n",
      "Loss: 62.019407, Train accuracy: 0.378667, val accuracy: 0.376000\n",
      "Loss: 952.556071, Train accuracy: 0.137000, val accuracy: 0.144000\n",
      "Loss: inf, Train accuracy: 0.070111, val accuracy: 0.066000\n",
      "Loss: inf, Train accuracy: 0.133778, val accuracy: 0.140000\n",
      "Model 0.001-0.001-0.9-128-5-128\n",
      "Loss: 79.173397, Train accuracy: 0.273222, val accuracy: 0.276000\n",
      "Loss: 55.559171, Train accuracy: 0.457222, val accuracy: 0.439000\n",
      "Loss: 73.625993, Train accuracy: 0.564333, val accuracy: 0.524000\n",
      "Loss: 32.897753, Train accuracy: 0.533556, val accuracy: 0.513000\n",
      "Loss: 38.918910, Train accuracy: 0.648889, val accuracy: 0.619000\n",
      "Model 0.001-0.001-0.9-128-5-256\n",
      "Loss: 91.214165, Train accuracy: 0.228333, val accuracy: 0.232000\n",
      "Loss: 85.342594, Train accuracy: 0.373556, val accuracy: 0.391000\n",
      "Loss: 39.282362, Train accuracy: 0.457444, val accuracy: 0.463000\n",
      "Loss: 1091.758081, Train accuracy: 0.232556, val accuracy: 0.203000\n",
      "Loss: inf, Train accuracy: 0.198667, val accuracy: 0.207000\n",
      "Model 0.001-0.0001-0.9-64-5-128\n",
      "Loss: 87.009077, Train accuracy: 0.248333, val accuracy: 0.257000\n",
      "Loss: 50.100103, Train accuracy: 0.505889, val accuracy: 0.486000\n",
      "Loss: 43.837362, Train accuracy: 0.563889, val accuracy: 0.566000\n",
      "Loss: 48.710110, Train accuracy: 0.605000, val accuracy: 0.581000\n",
      "Loss: 37.859077, Train accuracy: 0.669000, val accuracy: 0.639000\n",
      "Model 0.001-0.0001-0.9-64-5-256\n",
      "Loss: 88.616251, Train accuracy: 0.200000, val accuracy: 0.208000\n",
      "Loss: 62.207540, Train accuracy: 0.388667, val accuracy: 0.392000\n",
      "Loss: 44.389807, Train accuracy: 0.542333, val accuracy: 0.524000\n",
      "Loss: 50.057346, Train accuracy: 0.552667, val accuracy: 0.546000\n",
      "Loss: 73.813526, Train accuracy: 0.525889, val accuracy: 0.540000\n",
      "Model 0.001-0.0001-0.9-128-5-128\n",
      "Loss: 87.381332, Train accuracy: 0.249333, val accuracy: 0.259000\n",
      "Loss: 73.357534, Train accuracy: 0.538444, val accuracy: 0.531000\n",
      "Loss: 52.973363, Train accuracy: 0.581000, val accuracy: 0.553000\n",
      "Loss: 48.157814, Train accuracy: 0.651111, val accuracy: 0.632000\n",
      "Loss: 63.499972, Train accuracy: 0.628889, val accuracy: 0.601000\n",
      "Model 0.001-0.0001-0.9-128-5-256\n",
      "Loss: 83.308141, Train accuracy: 0.208222, val accuracy: 0.216000\n",
      "Loss: 82.455810, Train accuracy: 0.406000, val accuracy: 0.422000\n",
      "Loss: 1071.980300, Train accuracy: 0.153556, val accuracy: 0.161000\n",
      "Loss: inf, Train accuracy: 0.141556, val accuracy: 0.132000\n",
      "Loss: inf, Train accuracy: 0.085778, val accuracy: 0.067000\n",
      "best validation accuracy achieved: 0.656000\n"
     ]
    }
   ],
   "source": [
    "# Let's train the best one-hidden-layer network we can\n",
    "learning_rates = np.linspace(1e-4, 1e-3, 3)\n",
    "reg_strength = [1e-2, 1e-3, 1e-4]\n",
    "momentum = [0.9]\n",
    "hidden_layer_size = [64, 128]\n",
    "num_epochs = [5]\n",
    "batch_size = [128, 256]\n",
    "\n",
    "best_classifier = None\n",
    "best_val_accuracy = 0\n",
    "\n",
    "loss_history = []\n",
    "train_history = []\n",
    "val_history = []\n",
    "best_params = \"\"\n",
    "\n",
    "for lr in learning_rates:\n",
    "    for reg in reg_strength:\n",
    "        for mom in momentum:\n",
    "            for hl_size in hidden_layer_size:\n",
    "                for num_ep in num_epochs:\n",
    "                    for b_size in batch_size:\n",
    "                        print(f\"Model {lr}-{reg}-{lr_dec}-{hl_size}-{num_ep}-{b_size}\")\n",
    "                        model = TwoLayerNet(n_input = train_X.shape[1], n_output = 10, hidden_layer_size = hlsize, reg = reg)\n",
    "                        dataset = Dataset(train_X, train_y, val_X, val_y)\n",
    "                        trainer = Trainer(model, dataset, MomentumSGD(mom), learning_rate=lr, num_epochs=num_ep, batch_size=b_size)\n",
    "                        model_loss_history, model_train_history, model_val_history = trainer.fit()\n",
    "                        if(model_val_history[-1] > best_val_accuracy):\n",
    "                            best_val_accuracy = model_val_history[-1]\n",
    "                            best_classifier = model\n",
    "                            loss_history = model_loss_history\n",
    "                            train_history = model_train_history\n",
    "                            val_history = model_val_history\n",
    "                            best_params = f\"Model {lr}-{reg}-{lr_dec}-{hl_size}-{num_ep}-{b_size}\"\n",
    "\n",
    "print('best validation accuracy achieved: %f' % best_val_accuracy)"
   ]
  },
  {
   "cell_type": "code",
   "execution_count": 50,
   "metadata": {},
   "outputs": [
    {
     "data": {
      "text/plain": [
       "'Model 0.00055-0.0001-0.9-128-5-128'"
      ]
     },
     "execution_count": 50,
     "metadata": {},
     "output_type": "execute_result"
    }
   ],
   "source": [
    "best_params"
   ]
  },
  {
   "cell_type": "code",
   "execution_count": 51,
   "metadata": {},
   "outputs": [
    {
     "name": "stdout",
     "output_type": "stream",
     "text": [
      "Model 0.0006-0.0001-0.9-128-30-128\n",
      "Loss: 87.901516, Train accuracy: 0.196667, val accuracy: 0.206000\n",
      "Loss: 62.494070, Train accuracy: 0.425556, val accuracy: 0.423000\n",
      "Loss: 61.226248, Train accuracy: 0.546889, val accuracy: 0.554000\n",
      "Loss: 44.356144, Train accuracy: 0.614889, val accuracy: 0.608000\n",
      "Loss: 67.966325, Train accuracy: 0.628444, val accuracy: 0.600000\n",
      "Loss: 33.798349, Train accuracy: 0.721444, val accuracy: 0.674000\n",
      "Loss: 46.346090, Train accuracy: 0.716000, val accuracy: 0.667000\n",
      "Loss: 47.399194, Train accuracy: 0.715889, val accuracy: 0.666000\n",
      "Loss: 54.773664, Train accuracy: 0.709889, val accuracy: 0.647000\n",
      "Loss: 34.853109, Train accuracy: 0.795444, val accuracy: 0.719000\n",
      "Loss: 42.264359, Train accuracy: 0.752889, val accuracy: 0.693000\n",
      "Loss: 26.425315, Train accuracy: 0.778444, val accuracy: 0.686000\n",
      "Loss: 21.115961, Train accuracy: 0.821222, val accuracy: 0.725000\n",
      "Loss: 28.758397, Train accuracy: 0.787667, val accuracy: 0.683000\n",
      "Loss: 17.732336, Train accuracy: 0.834778, val accuracy: 0.722000\n",
      "Loss: 24.417138, Train accuracy: 0.800333, val accuracy: 0.687000\n",
      "Loss: 20.931127, Train accuracy: 0.860667, val accuracy: 0.733000\n",
      "Loss: 22.221419, Train accuracy: 0.819778, val accuracy: 0.701000\n",
      "Loss: 19.765668, Train accuracy: 0.882556, val accuracy: 0.727000\n",
      "Loss: 12.411943, Train accuracy: 0.890333, val accuracy: 0.751000\n",
      "Loss: 17.089013, Train accuracy: 0.870222, val accuracy: 0.728000\n",
      "Loss: 11.717125, Train accuracy: 0.839111, val accuracy: 0.701000\n",
      "Loss: 10.446028, Train accuracy: 0.873333, val accuracy: 0.718000\n",
      "Loss: 17.086172, Train accuracy: 0.892333, val accuracy: 0.735000\n",
      "Loss: 25.240537, Train accuracy: 0.880667, val accuracy: 0.714000\n",
      "Loss: 32.905745, Train accuracy: 0.871000, val accuracy: 0.715000\n",
      "Loss: 9.955057, Train accuracy: 0.876111, val accuracy: 0.730000\n",
      "Loss: 10.504799, Train accuracy: 0.882667, val accuracy: 0.732000\n",
      "Loss: 7.586073, Train accuracy: 0.920667, val accuracy: 0.744000\n",
      "Loss: 10.121268, Train accuracy: 0.924556, val accuracy: 0.752000\n",
      "best validation accuracy achieved: 0.752000\n"
     ]
    }
   ],
   "source": [
    "# Let's train the best one-hidden-layer network we can\n",
    "learning_rates = [0.0006]\n",
    "reg_strength = [0.0001]\n",
    "momentum = [0.9]\n",
    "hidden_layer_size = [128]\n",
    "num_epochs = [30]\n",
    "batch_size = [128]\n",
    "\n",
    "best_classifier = None\n",
    "best_val_accuracy = 0\n",
    "\n",
    "loss_history = []\n",
    "train_history = []\n",
    "val_history = []\n",
    "best_params = \"\"\n",
    "\n",
    "for lr in learning_rates:\n",
    "    for reg in reg_strength:\n",
    "        for mom in momentum:\n",
    "            for hl_size in hidden_layer_size:\n",
    "                for num_ep in num_epochs:\n",
    "                    for b_size in batch_size:\n",
    "                        print(f\"Model {lr}-{reg}-{lr_dec}-{hl_size}-{num_ep}-{b_size}\")\n",
    "                        model = TwoLayerNet(n_input = train_X.shape[1], n_output = 10, hidden_layer_size = hlsize, reg = reg)\n",
    "                        dataset = Dataset(train_X, train_y, val_X, val_y)\n",
    "                        trainer = Trainer(model, dataset, MomentumSGD(mom), learning_rate=lr, num_epochs=num_ep, batch_size=b_size)\n",
    "                        model_loss_history, model_train_history, model_val_history = trainer.fit()\n",
    "                        if(model_val_history[-1] > best_val_accuracy):\n",
    "                            best_val_accuracy = model_val_history[-1]\n",
    "                            best_classifier = model\n",
    "                            loss_history = model_loss_history\n",
    "                            train_history = model_train_history\n",
    "                            val_history = model_val_history\n",
    "                            best_params = f\"Model {lr}-{reg}-{lr_dec}-{hl_size}-{num_ep}-{b_size}\"\n",
    "\n",
    "print('best validation accuracy achieved: %f' % best_val_accuracy)"
   ]
  },
  {
   "cell_type": "code",
   "execution_count": 52,
   "metadata": {},
   "outputs": [
    {
     "data": {
      "text/plain": [
       "[<matplotlib.lines.Line2D at 0x126837d6d08>]"
      ]
     },
     "execution_count": 52,
     "metadata": {},
     "output_type": "execute_result"
    },
    {
     "data": {
      "image/png": "[encoded data removed]",
      "text/plain": [
       "<Figure size 1080x504 with 2 Axes>"
      ]
     },
     "metadata": {
      "needs_background": "light"
     },
     "output_type": "display_data"
    }
   ],
   "source": [
    "plt.figure(figsize=(15, 7))\n",
    "plt.subplot(211)\n",
    "plt.title(\"Loss\")\n",
    "plt.plot(loss_history)\n",
    "plt.subplot(212)\n",
    "plt.title(\"Train/validation accuracy\")\n",
    "plt.plot(train_history)\n",
    "plt.plot(val_history)"
   ]
  },
  {
   "cell_type": "markdown",
   "metadata": {},
   "source": [
    "# Как обычно, посмотрим, как наша лучшая модель работает на тестовых данных"
   ]
  },
  {
   "cell_type": "code",
   "execution_count": 53,
   "metadata": {},
   "outputs": [
    {
     "name": "stdout",
     "output_type": "stream",
     "text": [
      "Neural net test set accuracy: 0.729000\n"
     ]
    }
   ],
   "source": [
    "test_pred = best_classifier.predict(test_X)\n",
    "test_accuracy = multiclass_accuracy(test_pred, test_y)\n",
    "print('Neural net test set accuracy: %f' % (test_accuracy, ))"
   ]
  },
  {
   "cell_type": "code",
   "execution_count": null,
   "metadata": {},
   "outputs": [],
   "source": []
  }
 ],
 "metadata": {
  "kernelspec": {
   "display_name": "Python 3",
   "language": "python",
   "name": "python3"
  },
  "language_info": {
   "codemirror_mode": {
    "name": "ipython",
    "version": 3
   },
   "file_extension": ".py",
   "mimetype": "text/x-python",
   "name": "python",
   "nbconvert_exporter": "python",
   "pygments_lexer": "ipython3",
   "version": "3.7.8"
  }
 },
 "nbformat": 4,
 "nbformat_minor": 2
}
