{
 "cells": [
  {
   "cell_type": "markdown",
   "metadata": {},
   "source": [
    "# Задание 1.2 - Линейный классификатор (Linear classifier)\n",
    "\n",
    "В этом задании мы реализуем другую модель машинного обучения - линейный классификатор. Линейный классификатор подбирает для каждого класса веса, на которые нужно умножить значение каждого признака и потом сложить вместе.\n",
    "Тот класс, у которого эта сумма больше, и является предсказанием модели.\n",
    "\n",
    "В этом задании вы:\n",
    "- потренируетесь считать градиенты различных многомерных функций\n",
    "- реализуете подсчет градиентов через линейную модель и функцию потерь softmax\n",
    "- реализуете процесс тренировки линейного классификатора\n",
    "- подберете параметры тренировки на практике\n",
    "\n",
    "На всякий случай, еще раз ссылка на туториал по numpy:  \n",
    "http://cs231n.github.io/python-numpy-tutorial/"
   ]
  },
  {
   "cell_type": "code",
   "execution_count": 2,
   "metadata": {},
   "outputs": [],
   "source": [
    "import numpy as np\n",
    "import matplotlib.pyplot as plt\n",
    "\n",
    "%matplotlib inline\n",
    "\n",
    "%load_ext autoreload\n",
    "%autoreload 2"
   ]
  },
  {
   "cell_type": "code",
   "execution_count": 3,
   "metadata": {},
   "outputs": [],
   "source": [
    "from dataset import load_svhn, random_split_train_val\n",
    "from gradient_check import check_gradient\n",
    "from metrics import multiclass_accuracy \n",
    "import linear_classifer"
   ]
  },
  {
   "cell_type": "markdown",
   "metadata": {},
   "source": [
    "# Как всегда, первым делом загружаем данные\n",
    "\n",
    "Мы будем использовать все тот же SVHN."
   ]
  },
  {
   "cell_type": "code",
   "execution_count": 4,
   "metadata": {},
   "outputs": [],
   "source": [
    "def prepare_for_linear_classifier(train_X, test_X):\n",
    "    train_flat = train_X.reshape(train_X.shape[0], -1).astype(np.float) / 255.0\n",
    "    test_flat = test_X.reshape(test_X.shape[0], -1).astype(np.float) / 255.0\n",
    "    \n",
    "    # Subtract mean\n",
    "    mean_image = np.mean(train_flat, axis = 0)\n",
    "    train_flat -= mean_image\n",
    "    test_flat -= mean_image\n",
    "    \n",
    "    # Add another channel with ones as a bias term\n",
    "    train_flat_with_ones = np.hstack([train_flat, np.ones((train_X.shape[0], 1))])\n",
    "    test_flat_with_ones = np.hstack([test_flat, np.ones((test_X.shape[0], 1))])    \n",
    "    return train_flat_with_ones, test_flat_with_ones\n",
    "    \n",
    "train_X, train_y, test_X, test_y = load_svhn(\"data\", max_train=10000, max_test=1000)    \n",
    "train_X, test_X = prepare_for_linear_classifier(train_X, test_X)\n",
    "# Split train into train and val\n",
    "train_X, train_y, val_X, val_y = random_split_train_val(train_X, train_y, num_val = 1000)"
   ]
  },
  {
   "cell_type": "markdown",
   "metadata": {},
   "source": [
    "# Играемся с градиентами!\n",
    "\n",
    "В этом курсе мы будем писать много функций, которые вычисляют градиенты аналитическим методом.\n",
    "\n",
    "Все функции, в которых мы будем вычислять градиенты, будут написаны по одной и той же схеме.  \n",
    "Они будут получать на вход точку, где нужно вычислить значение и градиент функции, а на выходе будут выдавать кортеж (tuple) из двух значений - собственно значения функции в этой точке (всегда одно число) и аналитического значения градиента в той же точке (той же размерности, что и вход).\n",
    "```\n",
    "def f(x):\n",
    "    \"\"\"\n",
    "    Computes function and analytic gradient at x\n",
    "    \n",
    "    x: np array of float, input to the function\n",
    "    \n",
    "    Returns:\n",
    "    value: float, value of the function \n",
    "    grad: np array of float, same shape as x\n",
    "    \"\"\"\n",
    "    ...\n",
    "    \n",
    "    return value, grad\n",
    "```\n",
    "\n",
    "Необходимым инструментом во время реализации кода, вычисляющего градиенты, является функция его проверки. Эта функция вычисляет градиент численным методом и сверяет результат с градиентом, вычисленным аналитическим методом.\n",
    "\n",
    "Мы начнем с того, чтобы реализовать вычисление численного градиента (numeric gradient) в функции `check_gradient` в `gradient_check.py`. Эта функция будет принимать на вход функции формата, заданного выше, использовать значение `value` для вычисления численного градиента и сравнит его с аналитическим - они должны сходиться.\n",
    "\n",
    "Напишите часть функции, которая вычисляет градиент с помощью численной производной для каждой координаты. Для вычисления производной используйте так называемую two-point formula (https://en.wikipedia.org/wiki/Numerical_differentiation):\n",
    "\n",
    "![image](https://wikimedia.org/api/rest_v1/media/math/render/svg/22fc2c0a66c63560a349604f8b6b39221566236d)\n",
    "\n",
    "Все функции приведенные в следующей клетке должны проходить gradient check."
   ]
  },
  {
   "cell_type": "code",
   "execution_count": 5,
   "metadata": {
    "scrolled": true
   },
   "outputs": [
    {
     "name": "stdout",
     "output_type": "stream",
     "text": [
      "Gradient check passed!\n",
      "Gradient check passed!\n",
      "Gradient check passed!\n"
     ]
    },
    {
     "data": {
      "text/plain": [
       "True"
      ]
     },
     "execution_count": 5,
     "metadata": {},
     "output_type": "execute_result"
    }
   ],
   "source": [
    "# TODO: Implement check_gradient function in gradient_check.py\n",
    "# All the functions below should pass the gradient check\n",
    "\n",
    "def square(x):\n",
    "    return float(x*x), 2*x\n",
    "\n",
    "check_gradient(square, np.array([3.0]))\n",
    "\n",
    "def array_sum(x):\n",
    "    assert x.shape == (2,), x.shape\n",
    "    return np.sum(x), np.ones_like(x)\n",
    "\n",
    "check_gradient(array_sum, np.array([3.0, 2.0]))\n",
    "\n",
    "def array_2d_sum(x):\n",
    "    assert x.shape == (2,2)\n",
    "    return np.sum(x), np.ones_like(x)\n",
    "\n",
    "check_gradient(array_2d_sum, np.array([[3.0, 2.0], [1.0, 0.0]]))"
   ]
  },
  {
   "cell_type": "markdown",
   "metadata": {},
   "source": [
    "## Начинаем писать свои функции, считающие аналитический градиент\n",
    "\n",
    "Теперь реализуем функцию softmax, которая получает на вход оценки для каждого класса и преобразует их в вероятности от 0 до 1:\n",
    "![image](https://wikimedia.org/api/rest_v1/media/math/render/svg/e348290cf48ddbb6e9a6ef4e39363568b67c09d3)\n",
    "\n",
    "**Важно:** Практический аспект вычисления этой функции заключается в том, что в ней учавствует вычисление экспоненты от потенциально очень больших чисел - это может привести к очень большим значениям в числителе и знаменателе за пределами диапазона float.\n",
    "\n",
    "К счастью, у этой проблемы есть простое решение -- перед вычислением softmax вычесть из всех оценок максимальное значение среди всех оценок:\n",
    "```\n",
    "predictions -= np.max(predictions)\n",
    "```\n",
    "(подробнее здесь - http://cs231n.github.io/linear-classify/#softmax, секция `Practical issues: Numeric stability`)"
   ]
  },
  {
   "cell_type": "code",
   "execution_count": 13,
   "metadata": {},
   "outputs": [],
   "source": [
    "# TODO Implement softmax and cross-entropy for single sample\n",
    "probs = linear_classifer.softmax(np.array([-10, 0, 10]))\n",
    "\n",
    "# Make sure it works for big numbers too!\n",
    "probs = linear_classifer.softmax(np.array([1000, 0, 0]))\n",
    "assert np.isclose(probs[0], 1.0)\n",
    "\n",
    "probs = linear_classifer.softmax(np.array([[1000, 0, 0],\n",
    "                                          [1, 2, 5]]))\n",
    "assert np.isclose(probs[0, 0], 1.0)"
   ]
  },
  {
   "cell_type": "markdown",
   "metadata": {},
   "source": [
    "Кроме этого, мы реализуем cross-entropy loss, которую мы будем использовать как функцию ошибки (error function).\n",
    "В общем виде cross-entropy определена следующим образом:\n",
    "![image](https://wikimedia.org/api/rest_v1/media/math/render/svg/0cb6da032ab424eefdca0884cd4113fe578f4293)\n",
    "\n",
    "где x - все классы, p(x) - истинная вероятность принадлежности сэмпла классу x, а q(x) - вероятность принадлежности классу x, предсказанная моделью.  \n",
    "В нашем случае сэмпл принадлежит только одному классу, индекс которого передается функции. Для него p(x) равна 1, а для остальных классов - 0. \n",
    "\n",
    "Это позволяет реализовать функцию проще!"
   ]
  },
  {
   "cell_type": "code",
   "execution_count": 22,
   "metadata": {},
   "outputs": [
    {
     "data": {
      "text/plain": [
       "3.0486305974370773"
      ]
     },
     "metadata": {},
     "output_type": "display_data"
    },
    {
     "data": {
      "text/plain": [
       "5.414366407991502"
      ]
     },
     "metadata": {},
     "output_type": "display_data"
    }
   ],
   "source": [
    "probs = linear_classifer.softmax(np.array([-5, 2, 5]))\n",
    "display(linear_classifer.cross_entropy_loss(probs, 1))\n",
    "\n",
    "probs = linear_classifer.softmax(np.array([[-5, 0, 5],\n",
    "                                          [2, 0, 1]]))\n",
    "display(linear_classifer.cross_entropy_loss(probs, [1, 0]))"
   ]
  },
  {
   "cell_type": "markdown",
   "metadata": {},
   "source": [
    "После того как мы реализовали сами функции, мы можем реализовать градиент.\n",
    "\n",
    "Оказывается, что вычисление градиента становится гораздо проще, если объединить эти функции в одну, которая сначала вычисляет вероятности через softmax, а потом использует их для вычисления функции ошибки через cross-entropy loss.\n",
    "\n",
    "Эта функция `softmax_with_cross_entropy` будет возвращает и значение ошибки, и градиент по входным параметрам. Мы проверим корректность реализации с помощью `check_gradient`."
   ]
  },
  {
   "cell_type": "code",
   "execution_count": 26,
   "metadata": {},
   "outputs": [
    {
     "name": "stdout",
     "output_type": "stream",
     "text": [
      "Gradient check passed!\n"
     ]
    },
    {
     "data": {
      "text/plain": [
       "True"
      ]
     },
     "execution_count": 26,
     "metadata": {},
     "output_type": "execute_result"
    }
   ],
   "source": [
    "# TODO Implement combined function or softmax and cross entropy and produces gradient\n",
    "loss, grad = linear_classifer.softmax_with_cross_entropy(np.array([1, 0, 0]), 1)\n",
    "check_gradient(lambda x: linear_classifer.softmax_with_cross_entropy(x, 1), np.array([1, 0, 0], np.float))"
   ]
  },
  {
   "cell_type": "markdown",
   "metadata": {},
   "source": [
    "В качестве метода тренировки мы будем использовать стохастический градиентный спуск (stochastic gradient descent или SGD), который работает с батчами сэмплов. \n",
    "\n",
    "Поэтому все наши фукнции будут получать не один пример, а батч, то есть входом будет не вектор из `num_classes` оценок, а матрица размерности `batch_size, num_classes`. Индекс примера в батче всегда будет первым измерением.\n",
    "\n",
    "Следующий шаг - переписать наши функции так, чтобы они поддерживали батчи.\n",
    "\n",
    "Финальное значение функции ошибки должно остаться числом, и оно равно среднему значению ошибки среди всех примеров в батче."
   ]
  },
  {
   "cell_type": "code",
   "execution_count": 39,
   "metadata": {
    "scrolled": false
   },
   "outputs": [
    {
     "name": "stdout",
     "output_type": "stream",
     "text": [
      "Gradient check passed!\n",
      "Gradient check passed!\n"
     ]
    }
   ],
   "source": [
    "# TODO Extend combined function so it can receive a 2d array with batch of samples\n",
    "np.random.seed(42)\n",
    "# Test batch_size = 1\n",
    "num_classes = 4\n",
    "batch_size = 1\n",
    "predictions = np.random.randint(-1, 3, size=(batch_size, num_classes)).astype(np.float)\n",
    "target_index = np.random.randint(0, num_classes, size=(batch_size, 1)).astype(np.int)\n",
    "check_gradient(lambda x: linear_classifer.softmax_with_cross_entropy(x, target_index), predictions)\n",
    "\n",
    "# Test batch_size = 3\n",
    "num_classes = 4\n",
    "batch_size = 3\n",
    "predictions = np.random.randint(-1, 3, size=(batch_size, num_classes)).astype(np.float)\n",
    "target_index = np.random.randint(0, num_classes, size=(batch_size, 1)).astype(np.int)\n",
    "check_gradient(lambda x: linear_classifer.softmax_with_cross_entropy(x, target_index), predictions)\n",
    "\n",
    "# Make sure maximum subtraction for numberic stability is done separately for every sample in the batch\n",
    "probs = linear_classifer.softmax(np.array([[20,0,0], [1000, 0, 0]]))\n",
    "assert np.all(np.isclose(probs[:, 0], 1.0))"
   ]
  },
  {
   "cell_type": "markdown",
   "metadata": {},
   "source": [
    "### Наконец, реализуем сам линейный классификатор!\n",
    "\n",
    "softmax и cross-entropy получают на вход оценки, которые выдает линейный классификатор.\n",
    "\n",
    "Он делает это очень просто: для каждого класса есть набор весов, на которые надо умножить пиксели картинки и сложить. Получившееся число и является оценкой класса, идущей на вход softmax.\n",
    "\n",
    "Таким образом, линейный классификатор можно представить как умножение вектора с пикселями на матрицу W размера `num_features, num_classes`. Такой подход легко расширяется на случай батча векторов с пикселями X размера `batch_size, num_features`:\n",
    "\n",
    "`predictions = X * W`, где `*` - матричное умножение.\n",
    "\n",
    "Реализуйте функцию подсчета линейного классификатора и градиентов по весам `linear_softmax` в файле `linear_classifer.py`"
   ]
  },
  {
   "cell_type": "code",
   "execution_count": 46,
   "metadata": {},
   "outputs": [
    {
     "name": "stdout",
     "output_type": "stream",
     "text": [
      "Gradient check passed!\n"
     ]
    },
    {
     "data": {
      "text/plain": [
       "True"
      ]
     },
     "execution_count": 46,
     "metadata": {},
     "output_type": "execute_result"
    }
   ],
   "source": [
    "# TODO Implement linear_softmax function that uses softmax with cross-entropy for linear classifier\n",
    "batch_size = 2\n",
    "num_classes = 2\n",
    "num_features = 3\n",
    "np.random.seed(42)\n",
    "W = np.random.randint(-1, 3, size=(num_features, num_classes)).astype(np.float)\n",
    "X = np.random.randint(-1, 3, size=(batch_size, num_features)).astype(np.float)\n",
    "target_index = np.ones(batch_size, dtype=np.int)\n",
    "\n",
    "loss, dW = linear_classifer.linear_softmax(X, W, target_index)\n",
    "check_gradient(lambda w: linear_classifer.linear_softmax(X, w, target_index), W)"
   ]
  },
  {
   "cell_type": "markdown",
   "metadata": {},
   "source": [
    "### И теперь регуляризация\n",
    "\n",
    "Мы будем использовать L2 regularization для весов как часть общей функции ошибки.\n",
    "\n",
    "Напомним, L2 regularization определяется как\n",
    "\n",
    "l2_reg_loss = regularization_strength * sum<sub>ij</sub> W[i, j]<sup>2</sup>\n",
    "\n",
    "Реализуйте функцию для его вычисления и вычисления соотвествующих градиентов."
   ]
  },
  {
   "cell_type": "code",
   "execution_count": 48,
   "metadata": {},
   "outputs": [
    {
     "name": "stdout",
     "output_type": "stream",
     "text": [
      "Gradient check passed!\n"
     ]
    },
    {
     "data": {
      "text/plain": [
       "True"
      ]
     },
     "execution_count": 48,
     "metadata": {},
     "output_type": "execute_result"
    }
   ],
   "source": [
    "# TODO Implement l2_regularization function that implements loss for L2 regularization\n",
    "linear_classifer.l2_regularization(W, 0.01)\n",
    "check_gradient(lambda w: linear_classifer.l2_regularization(w, 0.01), W)"
   ]
  },
  {
   "cell_type": "markdown",
   "metadata": {},
   "source": [
    "# Тренировка!"
   ]
  },
  {
   "cell_type": "markdown",
   "metadata": {},
   "source": [
    "Градиенты в порядке, реализуем процесс тренировки!"
   ]
  },
  {
   "cell_type": "code",
   "execution_count": 50,
   "metadata": {
    "scrolled": false
   },
   "outputs": [
    {
     "name": "stdout",
     "output_type": "stream",
     "text": [
      "Epoch 0, loss: 24985.033995\n",
      "Epoch 1, loss: 26486.274974\n",
      "Epoch 2, loss: 25922.768044\n",
      "Epoch 3, loss: 27557.151243\n",
      "Epoch 4, loss: 26840.451264\n",
      "Epoch 5, loss: 27066.749694\n",
      "Epoch 6, loss: 26616.494448\n",
      "Epoch 7, loss: 25624.808225\n",
      "Epoch 8, loss: 25489.122039\n",
      "Epoch 9, loss: 27247.364579\n"
     ]
    }
   ],
   "source": [
    "# TODO: Implement LinearSoftmaxClassifier.fit function\n",
    "classifier = linear_classifer.LinearSoftmaxClassifier()\n",
    "loss_history = classifier.fit(train_X, train_y, epochs=10, learning_rate=1e-3, batch_size=300, reg=1e1)"
   ]
  },
  {
   "cell_type": "code",
   "execution_count": 51,
   "metadata": {},
   "outputs": [
    {
     "data": {
      "text/plain": [
       "[<matplotlib.lines.Line2D at 0x22e59582948>]"
      ]
     },
     "execution_count": 51,
     "metadata": {},
     "output_type": "execute_result"
    },
    {
     "data": {
      "image/png": "[encoded data removed]",
      "text/plain": [
       "<Figure size 432x288 with 1 Axes>"
      ]
     },
     "metadata": {
      "needs_background": "light"
     },
     "output_type": "display_data"
    }
   ],
   "source": [
    "# let's look at the loss history!\n",
    "plt.plot(loss_history)"
   ]
  },
  {
   "cell_type": "code",
   "execution_count": 53,
   "metadata": {},
   "outputs": [
    {
     "name": "stdout",
     "output_type": "stream",
     "text": [
      "Accuracy:  0.164\n",
      "Epoch 0, loss: 25772.929141\n",
      "Epoch 1, loss: 26644.105777\n",
      "Epoch 2, loss: 26928.544574\n",
      "Epoch 3, loss: 25979.446072\n",
      "Epoch 4, loss: 26707.798208\n",
      "Epoch 5, loss: 27003.303356\n",
      "Epoch 6, loss: 25521.322173\n",
      "Epoch 7, loss: 27493.334627\n",
      "Epoch 8, loss: 27285.695643\n",
      "Epoch 9, loss: 28392.878804\n",
      "Epoch 10, loss: 25988.855168\n",
      "Epoch 11, loss: 26365.625447\n",
      "Epoch 12, loss: 26715.406295\n",
      "Epoch 13, loss: 25124.796715\n",
      "Epoch 14, loss: 27380.860037\n",
      "Epoch 15, loss: 26001.073302\n",
      "Epoch 16, loss: 26225.619902\n",
      "Epoch 17, loss: 26845.792938\n",
      "Epoch 18, loss: 27122.710528\n",
      "Epoch 19, loss: 27542.020215\n",
      "Epoch 20, loss: 26639.728220\n",
      "Epoch 21, loss: 27847.545032\n",
      "Epoch 22, loss: 26235.856837\n",
      "Epoch 23, loss: 26544.309023\n",
      "Epoch 24, loss: 26226.719986\n",
      "Epoch 25, loss: 27890.642027\n",
      "Epoch 26, loss: 27215.284818\n",
      "Epoch 27, loss: 26940.954323\n",
      "Epoch 28, loss: 27394.233812\n",
      "Epoch 29, loss: 24588.589820\n",
      "Epoch 30, loss: 26360.424170\n",
      "Epoch 31, loss: 28060.875933\n",
      "Epoch 32, loss: 25552.523887\n",
      "Epoch 33, loss: 27897.642346\n",
      "Epoch 34, loss: 26022.911748\n",
      "Epoch 35, loss: 26944.505610\n",
      "Epoch 36, loss: 25899.499318\n",
      "Epoch 37, loss: 28158.930738\n",
      "Epoch 38, loss: 27340.438023\n",
      "Epoch 39, loss: 27948.350909\n",
      "Epoch 40, loss: 26802.710021\n",
      "Epoch 41, loss: 26165.188606\n",
      "Epoch 42, loss: 26742.750358\n",
      "Epoch 43, loss: 26600.845091\n",
      "Epoch 44, loss: 27279.192231\n",
      "Epoch 45, loss: 26813.944272\n",
      "Epoch 46, loss: 26794.698138\n",
      "Epoch 47, loss: 27548.694144\n",
      "Epoch 48, loss: 26854.593460\n",
      "Epoch 49, loss: 25488.994772\n",
      "Epoch 50, loss: 25533.116761\n",
      "Epoch 51, loss: 27751.368644\n",
      "Epoch 52, loss: 26152.943612\n",
      "Epoch 53, loss: 27613.340168\n",
      "Epoch 54, loss: 26525.903166\n",
      "Epoch 55, loss: 26134.898801\n",
      "Epoch 56, loss: 25990.896878\n",
      "Epoch 57, loss: 25579.457512\n",
      "Epoch 58, loss: 28123.430558\n",
      "Epoch 59, loss: 25713.499596\n",
      "Epoch 60, loss: 26276.263677\n",
      "Epoch 61, loss: 25442.027325\n",
      "Epoch 62, loss: 26245.550972\n",
      "Epoch 63, loss: 27381.267274\n",
      "Epoch 64, loss: 26840.855023\n",
      "Epoch 65, loss: 27558.087371\n",
      "Epoch 66, loss: 25533.619082\n",
      "Epoch 67, loss: 26934.744918\n",
      "Epoch 68, loss: 25701.895661\n",
      "Epoch 69, loss: 27777.410098\n",
      "Epoch 70, loss: 27519.004405\n",
      "Epoch 71, loss: 25736.365962\n",
      "Epoch 72, loss: 27020.928444\n",
      "Epoch 73, loss: 26880.037292\n",
      "Epoch 74, loss: 26416.843293\n",
      "Epoch 75, loss: 26313.895409\n",
      "Epoch 76, loss: 26891.709475\n",
      "Epoch 77, loss: 27554.053321\n",
      "Epoch 78, loss: 27202.680723\n",
      "Epoch 79, loss: 26269.802701\n",
      "Epoch 80, loss: 28032.887291\n",
      "Epoch 81, loss: 26772.839280\n",
      "Epoch 82, loss: 26956.299008\n",
      "Epoch 83, loss: 26135.112216\n",
      "Epoch 84, loss: 27939.648306\n",
      "Epoch 85, loss: 25644.687135\n",
      "Epoch 86, loss: 27373.496601\n",
      "Epoch 87, loss: 27030.749271\n",
      "Epoch 88, loss: 27771.183574\n",
      "Epoch 89, loss: 27906.484099\n",
      "Epoch 90, loss: 26304.460121\n",
      "Epoch 91, loss: 27266.016921\n",
      "Epoch 92, loss: 27070.816022\n",
      "Epoch 93, loss: 26652.566006\n",
      "Epoch 94, loss: 26680.215025\n",
      "Epoch 95, loss: 26528.351302\n",
      "Epoch 96, loss: 26633.476461\n",
      "Epoch 97, loss: 24248.536119\n",
      "Epoch 98, loss: 28105.920673\n",
      "Epoch 99, loss: 25168.756120\n",
      "Accuracy after training for 100 epochs:  0.173\n"
     ]
    }
   ],
   "source": [
    "# Let's check how it performs on validation set\n",
    "pred = classifier.predict(val_X)\n",
    "accuracy = multiclass_accuracy(pred, val_y)\n",
    "print(\"Accuracy: \", accuracy)\n",
    "\n",
    "# Now, let's train more and see if it performs better\n",
    "classifier.fit(train_X, train_y, epochs=100, learning_rate=1e-3, batch_size=300, reg=1e1)\n",
    "pred = classifier.predict(val_X)\n",
    "accuracy = multiclass_accuracy(pred, val_y)\n",
    "print(\"Accuracy after training for 100 epochs: \", accuracy)"
   ]
  },
  {
   "cell_type": "markdown",
   "metadata": {},
   "source": [
    "### Как и раньше, используем кросс-валидацию для подбора гиперпараметтов.\n",
    "\n",
    "В этот раз, чтобы тренировка занимала разумное время, мы будем использовать только одно разделение на тренировочные (training) и проверочные (validation) данные.\n",
    "\n",
    "Теперь нам нужно подобрать не один, а два гиперпараметра! Не ограничивайте себя изначальными значениями в коде.  \n",
    "Добейтесь точности более чем **20%** на проверочных данных (validation data)."
   ]
  },
  {
   "cell_type": "code",
   "execution_count": 67,
   "metadata": {},
   "outputs": [
    {
     "name": "stdout",
     "output_type": "stream",
     "text": [
      "Model 0.001, 0.001, 32\n",
      "Epoch 10, loss: 19074.015004\n",
      "Epoch 20, loss: 18812.682117\n",
      "Epoch 30, loss: 18641.429048\n",
      "Epoch 40, loss: 18519.747820\n",
      "Epoch 50, loss: 18418.784818\n",
      "Model 0.001, 0.001, 64\n",
      "Epoch 10, loss: 19103.396045\n",
      "Epoch 20, loss: 18855.753495\n",
      "Epoch 30, loss: 18660.172261\n",
      "Epoch 40, loss: 18531.642051\n",
      "Epoch 50, loss: 18429.900106\n",
      "Model 0.001, 0.001, 128\n",
      "Epoch 10, loss: 19166.542345\n",
      "Epoch 20, loss: 18962.651599\n",
      "Epoch 30, loss: 18863.081794\n",
      "Epoch 40, loss: 18673.844952\n",
      "Epoch 50, loss: 18576.065003\n",
      "Model 0.001, 0.00055, 32\n",
      "Epoch 10, loss: 19085.937120\n",
      "Epoch 20, loss: 18802.702300\n",
      "Epoch 30, loss: 18623.707249\n",
      "Epoch 40, loss: 18494.789499\n",
      "Epoch 50, loss: 18385.372411\n",
      "Model 0.001, 0.00055, 64\n",
      "Epoch 10, loss: 19111.154201\n",
      "Epoch 20, loss: 18835.880981\n",
      "Epoch 30, loss: 18639.928901\n",
      "Epoch 40, loss: 18527.260623\n",
      "Epoch 50, loss: 18389.742263\n",
      "Model 0.001, 0.00055, 128\n",
      "Epoch 10, loss: 19208.306531\n",
      "Epoch 20, loss: 18995.056434\n",
      "Epoch 30, loss: 18695.074021\n",
      "Epoch 40, loss: 18710.019423\n",
      "Epoch 50, loss: 18525.453537\n",
      "Model 0.001, 0.0001, 32\n",
      "Epoch 10, loss: 19063.108903\n",
      "Epoch 20, loss: 18812.297674\n",
      "Epoch 30, loss: 18641.093596\n",
      "Epoch 40, loss: 18489.377108\n",
      "Epoch 50, loss: 18379.510087\n",
      "Model 0.001, 0.0001, 64\n",
      "Epoch 10, loss: 19089.250164\n",
      "Epoch 20, loss: 18858.196688\n",
      "Epoch 30, loss: 18677.411229\n",
      "Epoch 40, loss: 18523.232606\n",
      "Epoch 50, loss: 18427.388294\n",
      "Model 0.001, 0.0001, 128\n",
      "Epoch 10, loss: 19247.220285\n",
      "Epoch 20, loss: 18918.213211\n",
      "Epoch 30, loss: 18734.272682\n",
      "Epoch 40, loss: 18652.208031\n",
      "Epoch 50, loss: 18523.220679\n",
      "Model 0.00055, 0.001, 32\n",
      "Epoch 10, loss: 19154.615957\n",
      "Epoch 20, loss: 18888.057204\n",
      "Epoch 30, loss: 18740.943486\n",
      "Epoch 40, loss: 18630.491444\n",
      "Epoch 50, loss: 18542.873410\n",
      "Model 0.00055, 0.001, 64\n",
      "Epoch 10, loss: 19155.591856\n",
      "Epoch 20, loss: 18901.384248\n",
      "Epoch 30, loss: 18740.034217\n",
      "Epoch 40, loss: 18639.692307\n",
      "Epoch 50, loss: 18534.508743\n",
      "Model 0.00055, 0.001, 128\n",
      "Epoch 10, loss: 19155.244645\n",
      "Epoch 20, loss: 18925.377131\n",
      "Epoch 30, loss: 18759.049615\n",
      "Epoch 40, loss: 18643.181903\n",
      "Epoch 50, loss: 18545.167967\n",
      "Model 0.00055, 0.00055, 32\n",
      "Epoch 10, loss: 19147.948002\n",
      "Epoch 20, loss: 18883.448106\n",
      "Epoch 30, loss: 18740.802156\n",
      "Epoch 40, loss: 18630.258448\n",
      "Epoch 50, loss: 18531.859999\n",
      "Model 0.00055, 0.00055, 64\n",
      "Epoch 10, loss: 19152.295266\n",
      "Epoch 20, loss: 18906.834452\n",
      "Epoch 30, loss: 18727.557006\n",
      "Epoch 40, loss: 18630.524596\n",
      "Epoch 50, loss: 18550.721448\n",
      "Model 0.00055, 0.00055, 128\n",
      "Epoch 10, loss: 19168.319827\n",
      "Epoch 20, loss: 18924.750846\n",
      "Epoch 30, loss: 18775.267745\n",
      "Epoch 40, loss: 18630.225529\n",
      "Epoch 50, loss: 18556.222793\n",
      "Model 0.00055, 0.0001, 32\n",
      "Epoch 10, loss: 19151.022681\n",
      "Epoch 20, loss: 18888.589159\n",
      "Epoch 30, loss: 18731.242685\n",
      "Epoch 40, loss: 18623.487854\n",
      "Epoch 50, loss: 18524.265370\n",
      "Model 0.00055, 0.0001, 64\n",
      "Epoch 10, loss: 19152.830104\n",
      "Epoch 20, loss: 18891.382344\n",
      "Epoch 30, loss: 18743.439693\n",
      "Epoch 40, loss: 18628.962986\n",
      "Epoch 50, loss: 18534.519674\n",
      "Model 0.00055, 0.0001, 128\n",
      "Epoch 10, loss: 19171.348889\n",
      "Epoch 20, loss: 18914.297075\n",
      "Epoch 30, loss: 18754.383345\n",
      "Epoch 40, loss: 18636.529271\n",
      "Epoch 50, loss: 18551.087793\n",
      "Model 0.0001, 0.001, 32\n",
      "Epoch 10, loss: 19676.797174\n",
      "Epoch 20, loss: 19372.130758\n",
      "Epoch 30, loss: 19216.520441\n",
      "Epoch 40, loss: 19110.192204\n",
      "Epoch 50, loss: 19031.020603\n",
      "Model 0.0001, 0.001, 64\n",
      "Epoch 10, loss: 19681.251579\n",
      "Epoch 20, loss: 19372.316671\n",
      "Epoch 30, loss: 19216.329881\n",
      "Epoch 40, loss: 19111.089595\n",
      "Epoch 50, loss: 19030.928177\n",
      "Model 0.0001, 0.001, 128\n",
      "Epoch 10, loss: 19680.918682\n",
      "Epoch 20, loss: 19371.524889\n",
      "Epoch 30, loss: 19214.882388\n",
      "Epoch 40, loss: 19107.455947\n",
      "Epoch 50, loss: 19027.196381\n",
      "Model 0.0001, 0.00055, 32\n",
      "Epoch 10, loss: 19682.421393\n",
      "Epoch 20, loss: 19371.718283\n",
      "Epoch 30, loss: 19217.851541\n",
      "Epoch 40, loss: 19109.847989\n",
      "Epoch 50, loss: 19027.782236\n",
      "Model 0.0001, 0.00055, 64\n",
      "Epoch 10, loss: 19682.970918\n",
      "Epoch 20, loss: 19377.245018\n",
      "Epoch 30, loss: 19215.174085\n",
      "Epoch 40, loss: 19112.984196\n",
      "Epoch 50, loss: 19027.835324\n",
      "Model 0.0001, 0.00055, 128\n",
      "Epoch 10, loss: 19679.913830\n",
      "Epoch 20, loss: 19371.833998\n",
      "Epoch 30, loss: 19217.232736\n",
      "Epoch 40, loss: 19110.731649\n",
      "Epoch 50, loss: 19020.643935\n",
      "Model 0.0001, 0.0001, 32\n",
      "Epoch 10, loss: 19683.746383\n",
      "Epoch 20, loss: 19369.388956\n",
      "Epoch 30, loss: 19213.654347\n",
      "Epoch 40, loss: 19111.039741\n",
      "Epoch 50, loss: 19029.155378\n",
      "Model 0.0001, 0.0001, 64\n",
      "Epoch 10, loss: 19682.610442\n",
      "Epoch 20, loss: 19371.246136\n",
      "Epoch 30, loss: 19216.442201\n",
      "Epoch 40, loss: 19108.243481\n",
      "Epoch 50, loss: 19030.646647\n",
      "Model 0.0001, 0.0001, 128\n",
      "Epoch 10, loss: 19682.334128\n",
      "Epoch 20, loss: 19374.181881\n",
      "Epoch 30, loss: 19217.085361\n",
      "Epoch 40, loss: 19107.883375\n",
      "Epoch 50, loss: 19029.992251\n",
      "best validation accuracy achieved: 0.253000\n"
     ]
    }
   ],
   "source": [
    "num_epochs = 200\n",
    "batch_size = 300\n",
    "\n",
    "learning_rates = np.linspace(0.001, 0.0001, 3)\n",
    "reg_strengths = np.linspace(0.001, 0.0001, 3)\n",
    "batch_sizes = [32, 64, 128]\n",
    "\n",
    "best_classifier = None\n",
    "best_val_accuracy = 0\n",
    "\n",
    "# TODO use validation set to find the best hyperparameters\n",
    "# hint: for best results, you might need to try more values for learning rate and regularization strength \n",
    "# than provided initially\n",
    "for learning_rate in learning_rates:\n",
    "    for reg in reg_strengths:\n",
    "        for batch_size in batch_sizes:\n",
    "            print(f\"Model {learning_rate}, {reg}, {batch_size}\")\n",
    "            classifier = linear_classifer.LinearSoftmaxClassifier()\n",
    "            classifier.fit(train_X, train_y, epochs=50, learning_rate=learning_rate, batch_size=batch_size, reg=reg)\n",
    "            pred = classifier.predict(val_X)\n",
    "            accuracy = multiclass_accuracy(pred, val_y)\n",
    "            if accuracy > best_val_accuracy:\n",
    "                best_classifier = classifier\n",
    "                best_val_accuracy = accuracy\n",
    "\n",
    "print('best validation accuracy achieved: %f' % best_val_accuracy)"
   ]
  },
  {
   "cell_type": "markdown",
   "metadata": {},
   "source": [
    "# Какой же точности мы добились на тестовых данных?"
   ]
  },
  {
   "cell_type": "code",
   "execution_count": 68,
   "metadata": {},
   "outputs": [
    {
     "name": "stdout",
     "output_type": "stream",
     "text": [
      "Linear softmax classifier test set accuracy: 0.217000\n"
     ]
    }
   ],
   "source": [
    "test_pred = best_classifier.predict(test_X)\n",
    "test_accuracy = multiclass_accuracy(test_pred, test_y)\n",
    "print('Linear softmax classifier test set accuracy: %f' % (test_accuracy, ))"
   ]
  },
  {
   "cell_type": "code",
   "execution_count": null,
   "metadata": {},
   "outputs": [],
   "source": []
  }
 ],
 "metadata": {
  "kernelspec": {
   "display_name": "Python 3",
   "language": "python",
   "name": "python3"
  },
  "language_info": {
   "codemirror_mode": {
    "name": "ipython",
    "version": 3
   },
   "file_extension": ".py",
   "mimetype": "text/x-python",
   "name": "python",
   "nbconvert_exporter": "python",
   "pygments_lexer": "ipython3",
   "version": "3.7.8"
  }
 },
 "nbformat": 4,
 "nbformat_minor": 2
}
