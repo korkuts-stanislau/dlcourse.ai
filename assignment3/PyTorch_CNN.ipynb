{
  "nbformat": 4,
  "nbformat_minor": 0,
  "metadata": {
    "accelerator": "GPU",
    "colab": {
      "name": "PyTorch_CNN.ipynb",
      "provenance": [],
      "collapsed_sections": []
    },
    "kernelspec": {
      "display_name": "Python 3",
      "language": "python",
      "name": "python3"
    },
    "language_info": {
      "codemirror_mode": {
        "name": "ipython",
        "version": 3
      },
      "file_extension": ".py",
      "mimetype": "text/x-python",
      "name": "python",
      "nbconvert_exporter": "python",
      "pygments_lexer": "ipython3",
      "version": "3.8.5"
    }
  },
  "cells": [
    {
      "cell_type": "markdown",
      "metadata": {
        "id": "aOmJwJgjKJ1_"
      },
      "source": [
        "# Задание 3.2 - сверточные нейронные сети (CNNs) в PyTorch\n",
        "\n",
        "Это упражнение мы буде выполнять в Google Colab - https://colab.research.google.com/  \n",
        "Google Colab позволяет запускать код в notebook в облаке Google, где можно воспользоваться бесплатным GPU!  \n",
        "\n",
        "Авторы курса благодарят компанию Google и надеятся, что праздник не закончится.\n",
        "\n",
        "Туториал по настройке Google Colab:  \n",
        "https://medium.com/deep-learning-turkey/google-colab-free-gpu-tutorial-e113627b9f5d  \n",
        "(Keras инсталлировать не нужно, наш notebook сам установит PyTorch)\n"
      ]
    },
    {
      "cell_type": "code",
      "metadata": {
        "colab": {
          "base_uri": "https://localhost:8080/"
        },
        "id": "FcXBeP1O7cnY",
        "outputId": "b3f54c95-27cb-4880-9875-d2520f2e5214"
      },
      "source": [
        "# Intstall PyTorch and download data\n",
        "!pip3 install torch torchvision\n",
        "\n",
        "!wget -c http://ufldl.stanford.edu/housenumbers/train_32x32.mat http://ufldl.stanford.edu/housenumbers/test_32x32.mat"
      ],
      "execution_count": 1,
      "outputs": [
        {
          "output_type": "stream",
          "text": [
            "Requirement already satisfied: torch in /usr/local/lib/python3.6/dist-packages (1.7.0+cu101)\n",
            "Requirement already satisfied: torchvision in /usr/local/lib/python3.6/dist-packages (0.8.1+cu101)\n",
            "Requirement already satisfied: typing-extensions in /usr/local/lib/python3.6/dist-packages (from torch) (3.7.4.3)\n",
            "Requirement already satisfied: dataclasses in /usr/local/lib/python3.6/dist-packages (from torch) (0.8)\n",
            "Requirement already satisfied: future in /usr/local/lib/python3.6/dist-packages (from torch) (0.16.0)\n",
            "Requirement already satisfied: numpy in /usr/local/lib/python3.6/dist-packages (from torch) (1.19.5)\n",
            "Requirement already satisfied: pillow>=4.1.1 in /usr/local/lib/python3.6/dist-packages (from torchvision) (7.0.0)\n",
            "--2021-01-13 14:33:20--  http://ufldl.stanford.edu/housenumbers/train_32x32.mat\n",
            "Resolving ufldl.stanford.edu (ufldl.stanford.edu)... 171.64.68.10\n",
            "Connecting to ufldl.stanford.edu (ufldl.stanford.edu)|171.64.68.10|:80... connected.\n",
            "HTTP request sent, awaiting response... 200 OK\n",
            "Length: 182040794 (174M) [text/plain]\n",
            "Saving to: ‘train_32x32.mat’\n",
            "\n",
            "train_32x32.mat     100%[===================>] 173.61M  18.0MB/s    in 13s     \n",
            "\n",
            "2021-01-13 14:33:33 (13.2 MB/s) - ‘train_32x32.mat’ saved [182040794/182040794]\n",
            "\n",
            "--2021-01-13 14:33:33--  http://ufldl.stanford.edu/housenumbers/test_32x32.mat\n",
            "Reusing existing connection to ufldl.stanford.edu:80.\n",
            "HTTP request sent, awaiting response... 200 OK\n",
            "Length: 64275384 (61M) [text/plain]\n",
            "Saving to: ‘test_32x32.mat’\n",
            "\n",
            "test_32x32.mat      100%[===================>]  61.30M  18.7MB/s    in 3.3s    \n",
            "\n",
            "2021-01-13 14:33:37 (18.8 MB/s) - ‘test_32x32.mat’ saved [64275384/64275384]\n",
            "\n",
            "FINISHED --2021-01-13 14:33:37--\n",
            "Total wall clock time: 17s\n",
            "Downloaded: 2 files, 235M in 16s (14.3 MB/s)\n"
          ],
          "name": "stdout"
        }
      ]
    },
    {
      "cell_type": "code",
      "metadata": {
        "id": "-afwWw-Q85vD"
      },
      "source": [
        "from collections import namedtuple\n",
        "\n",
        "import matplotlib.pyplot as plt\n",
        "import numpy as np\n",
        "import PIL\n",
        "import torch\n",
        "import torch.nn as nn\n",
        "import torch.optim as optim\n",
        "import torchvision.datasets as dset\n",
        "from torch.utils.data.sampler import SubsetRandomSampler\n",
        "\n",
        "from torchvision import transforms"
      ],
      "execution_count": 2,
      "outputs": []
    },
    {
      "cell_type": "code",
      "metadata": {
        "id": "NNU-OD9O9ltP"
      },
      "source": [
        "device = torch.device(\"cuda:0\") # Let's make sure GPU is available!"
      ],
      "execution_count": 3,
      "outputs": []
    },
    {
      "cell_type": "code",
      "metadata": {
        "colab": {
          "base_uri": "https://localhost:8080/"
        },
        "id": "mbSxNCCgK0Ug",
        "outputId": "64c77cbb-3b9f-47a9-a8dc-c1fa6907d30b"
      },
      "source": [
        "device"
      ],
      "execution_count": 4,
      "outputs": [
        {
          "output_type": "execute_result",
          "data": {
            "text/plain": [
              "device(type='cuda', index=0)"
            ]
          },
          "metadata": {
            "tags": []
          },
          "execution_count": 4
        }
      ]
    },
    {
      "cell_type": "markdown",
      "metadata": {
        "id": "Ja2pc_9cKJ2Q"
      },
      "source": [
        "# Загружаем данные"
      ]
    },
    {
      "cell_type": "code",
      "metadata": {
        "id": "YAvkoRx-9FsP"
      },
      "source": [
        "# First, lets load the dataset\n",
        "data_train = dset.SVHN('./', \n",
        "                       transform=transforms.Compose([\n",
        "                           transforms.ToTensor(),\n",
        "                           transforms.Normalize(mean=[0.43,0.44,0.47],\n",
        "                                               std=[0.20,0.20,0.20])                           \n",
        "                       ])\n",
        "                      )\n",
        "data_test = dset.SVHN('./', split='test', transform=transforms.Compose([\n",
        "                           transforms.ToTensor(),\n",
        "                           transforms.Normalize(mean=[0.43,0.44,0.47],\n",
        "                                               std=[0.20,0.20,0.20])                           \n",
        "                       ]))"
      ],
      "execution_count": 5,
      "outputs": []
    },
    {
      "cell_type": "code",
      "metadata": {
        "id": "ha1q0PhBJfeY"
      },
      "source": [
        "X_test = data_test.data\n",
        "y_test = data_test.labels"
      ],
      "execution_count": 70,
      "outputs": []
    },
    {
      "cell_type": "code",
      "metadata": {
        "colab": {
          "base_uri": "https://localhost:8080/"
        },
        "id": "IlZ7EgOSRK9U",
        "outputId": "2b66d6d1-8860-4f06-ec1e-7d1be518ef0e"
      },
      "source": [
        "data_train.data.shape"
      ],
      "execution_count": 20,
      "outputs": [
        {
          "output_type": "execute_result",
          "data": {
            "text/plain": [
              "(73257, 3, 32, 32)"
            ]
          },
          "metadata": {
            "tags": []
          },
          "execution_count": 20
        }
      ]
    },
    {
      "cell_type": "markdown",
      "metadata": {
        "id": "oK8uGDo2KJ2T"
      },
      "source": [
        "Разделяем данные на training и validation.\n",
        "\n",
        "На всякий случай для подробностей - https://pytorch.org/tutorials/beginner/data_loading_tutorial.html"
      ]
    },
    {
      "cell_type": "code",
      "metadata": {
        "id": "YRnr8CPg7Hli"
      },
      "source": [
        "batch_size = 64\n",
        "\n",
        "data_size = data_train.data.shape[0]\n",
        "validation_split = .2\n",
        "split = int(np.floor(validation_split * data_size))\n",
        "indices = list(range(data_size))\n",
        "np.random.shuffle(indices)\n",
        "\n",
        "train_indices, val_indices = indices[split:], indices[:split]\n",
        "\n",
        "train_sampler = SubsetRandomSampler(train_indices)\n",
        "val_sampler = SubsetRandomSampler(val_indices)\n",
        "\n",
        "train_loader = torch.utils.data.DataLoader(data_train, batch_size=batch_size, \n",
        "                                           sampler=train_sampler)\n",
        "val_loader = torch.utils.data.DataLoader(data_train, batch_size=batch_size,\n",
        "                                         sampler=val_sampler)"
      ],
      "execution_count": 6,
      "outputs": []
    },
    {
      "cell_type": "code",
      "metadata": {
        "id": "LyYvt-T67PBG"
      },
      "source": [
        "# We'll use a special helper module to shape it into a flat tensor\n",
        "class Flattener(nn.Module):\n",
        "    def forward(self, x):\n",
        "        batch_size, *_ = x.shape\n",
        "        return x.view(batch_size, -1)"
      ],
      "execution_count": 7,
      "outputs": []
    },
    {
      "cell_type": "markdown",
      "metadata": {
        "id": "m1CL_aTTKJ2V"
      },
      "source": [
        "Создадим простейшую сеть с новыми слоями:  \n",
        "Convolutional - `nn.Conv2d`  \n",
        "MaxPool - `nn.MaxPool2d`"
      ]
    },
    {
      "cell_type": "code",
      "metadata": {
        "id": "65pdR53zLTPW"
      },
      "source": [
        "nn.Conv2d?"
      ],
      "execution_count": 8,
      "outputs": []
    },
    {
      "cell_type": "code",
      "metadata": {
        "id": "w9SFVGZP7SQd"
      },
      "source": [
        "nn_model = nn.Sequential(\n",
        "            nn.Conv2d(3, 64, 3, padding=1),\n",
        "            nn.ReLU(inplace=True),\n",
        "            nn.MaxPool2d(4),\n",
        "            nn.Conv2d(64, 64, 3, padding=1),\n",
        "            nn.ReLU(inplace=True),\n",
        "            nn.MaxPool2d(4),    \n",
        "            Flattener(),\n",
        "            nn.Linear(64*2*2, 10),\n",
        "          )\n",
        "\n",
        "nn_model.type(torch.cuda.FloatTensor)\n",
        "nn_model.to(device)\n",
        "\n",
        "loss = nn.CrossEntropyLoss().type(torch.cuda.FloatTensor)\n",
        "optimizer = optim.SGD(nn_model.parameters(), lr=1e-1, weight_decay=1e-4)"
      ],
      "execution_count": 9,
      "outputs": []
    },
    {
      "cell_type": "markdown",
      "metadata": {
        "id": "aen0kIR2KJ2Z"
      },
      "source": [
        "Восстановите функцию `compute_accuracy` из прошлого задания.  \n",
        "Единственное отличие в новом - она должна передать данные на GPU прежде чем прогонять через модель. Сделайте это так же, как это делает функция `train_model`"
      ]
    },
    {
      "cell_type": "code",
      "metadata": {
        "id": "p5kEeCEwWNDq"
      },
      "source": [
        "from tqdm import tqdm"
      ],
      "execution_count": 43,
      "outputs": []
    },
    {
      "cell_type": "code",
      "metadata": {
        "id": "2ek3KVQK7hJ6"
      },
      "source": [
        "def train_model(model, train_loader, val_loader, loss, optimizer, num_epochs, scheduler=None):    \n",
        "    loss_history = []\n",
        "    train_history = []\n",
        "    val_history = []\n",
        "    for epoch in range(num_epochs):\n",
        "        model.train() # Enter train mode\n",
        "        \n",
        "        loss_accum = 0\n",
        "        correct_samples = 0\n",
        "        total_samples = 0\n",
        "        for i_step, (x, y) in enumerate(train_loader):\n",
        "          \n",
        "            x_gpu = x.to(device)\n",
        "            y_gpu = y.to(device)\n",
        "            prediction = model(x_gpu)    \n",
        "            loss_value = loss(prediction, y_gpu)\n",
        "            optimizer.zero_grad()\n",
        "            loss_value.backward()\n",
        "            optimizer.step()\n",
        "            \n",
        "            _, indices = torch.max(prediction, 1)\n",
        "            correct_samples += torch.sum(indices == y_gpu)\n",
        "            total_samples += y.shape[0]\n",
        "            \n",
        "            loss_accum += loss_value\n",
        "\n",
        "        if scheduler is not None:\n",
        "            scheduler.step()\n",
        "\n",
        "        ave_loss = loss_accum / i_step\n",
        "        train_accuracy = float(correct_samples) / total_samples\n",
        "        val_accuracy = compute_accuracy(model, val_loader)\n",
        "        \n",
        "        loss_history.append(float(ave_loss))\n",
        "        train_history.append(train_accuracy)\n",
        "        val_history.append(val_accuracy)\n",
        "        \n",
        "        print(\"Average loss: %f, Train accuracy: %f, Val accuracy: %f\" % (ave_loss, train_accuracy, val_accuracy))\n",
        "        \n",
        "    return loss_history, train_history, val_history\n",
        "        \n",
        "def compute_accuracy(model, loader):\n",
        "    \"\"\"\n",
        "    Computes accuracy on the dataset wrapped in a loader\n",
        "    \n",
        "    Returns: accuracy as a float value between 0 and 1\n",
        "    \"\"\"\n",
        "    model.eval()\n",
        "    trues = 0\n",
        "    count = 0\n",
        "    for (x, ground_truth) in loader:\n",
        "        x = x.to(device)\n",
        "        ground_truth = ground_truth.to(device)\n",
        "        predictions = torch.argmax(model(x), dim=1)\n",
        "        is_correct = [pred == gt for pred, gt in zip(predictions, ground_truth)]\n",
        "        count += len(is_correct)\n",
        "        trues += is_correct.count(True)\n",
        "    return trues / count if count != 0 else 0\n",
        "\n",
        "#loss_history, train_history, val_history = train_model(nn_model, train_loader, val_loader, loss, optimizer, 3)"
      ],
      "execution_count": 50,
      "outputs": []
    },
    {
      "cell_type": "markdown",
      "metadata": {
        "id": "6a-3a1ZFGEw_"
      },
      "source": [
        "# Аугментация данных (Data augmentation)\n",
        "\n",
        "В работе с изображениями одним из особенно важных методов является аугментация данных - то есть, генерация дополнительных данных для тренировки на основе изначальных.   \n",
        "Таким образом, мы получаем возможность \"увеличить\" набор данных для тренировки, что ведет к лучшей работе сети.\n",
        "Важно, чтобы аугментированные данные были похожи на те, которые могут встретиться в реальной жизни, иначе польза от аугментаций уменьшается и может ухудшить работу сети.\n",
        "\n",
        "С PyTorch идут несколько таких алгоритмов, называемых `transforms`. Более подробно про них можно прочитать тут -\n",
        "https://pytorch.org/tutorials/beginner/data_loading_tutorial.html#transforms\n",
        "\n",
        "Ниже мы используем следующие алгоритмы генерации:\n",
        "- ColorJitter - случайное изменение цвета\n",
        "- RandomHorizontalFlip - горизонтальное отражение с вероятностью 50%\n",
        "- RandomVerticalFlip - вертикальное отражение с вероятностью 50%\n",
        "- RandomRotation - случайный поворот"
      ]
    },
    {
      "cell_type": "code",
      "metadata": {
        "id": "jCWMUWmr7t5g"
      },
      "source": [
        "tfs = transforms.Compose([\n",
        "    transforms.ColorJitter(hue=.50, saturation=.50),\n",
        "    transforms.RandomHorizontalFlip(),\n",
        "    transforms.RandomVerticalFlip(),\n",
        "    transforms.RandomRotation(50, resample=PIL.Image.BILINEAR),\n",
        "    transforms.ToTensor(),\n",
        "    transforms.Normalize(mean=[0.43,0.44,0.47],\n",
        "                       std=[0.20,0.20,0.20])                           \n",
        "])\n",
        "\n",
        "# Create augmented train dataset\n",
        "data_aug_train = dset.SVHN('./', \n",
        "                       transform=tfs\n",
        "                      )\n",
        "\n",
        "train_aug_loader = torch.utils.data.DataLoader(data_aug_train, batch_size=batch_size, \n",
        "                                           sampler=train_sampler)"
      ],
      "execution_count": 12,
      "outputs": []
    },
    {
      "cell_type": "markdown",
      "metadata": {
        "id": "vwdRA-MWKJ2d"
      },
      "source": [
        "Визуализируем результаты агментации (вообще, смотреть на сгенерированные данные всегда очень полезно)."
      ]
    },
    {
      "cell_type": "code",
      "metadata": {
        "colab": {
          "base_uri": "https://localhost:8080/",
          "height": 173
        },
        "id": "YlJJEro1KZ45",
        "outputId": "e94992cf-b3fe-4476-8508-27be60b09931"
      },
      "source": [
        "# TODO: Visualize some augmented images!\n",
        "# hint: you can create new datasets and loaders to accomplish this\n",
        "\n",
        "# Based on the visualizations, should we keep all the augmentations?\n",
        "\n",
        "tfs = transforms.Compose([\n",
        "    transforms.ColorJitter(hue=.20, saturation=.20),\n",
        "    transforms.RandomHorizontalFlip(),\n",
        "    transforms.RandomVerticalFlip(),\n",
        "    transforms.RandomRotation(10, resample=PIL.Image.BILINEAR),\n",
        "])\n",
        "\n",
        "data_aug_vis = dset.SVHN('./', \n",
        "                       transform=tfs\n",
        "                      )\n",
        "\n",
        "plt.figure(figsize=(30, 3))\n",
        "\n",
        "for i, (x, y) in enumerate(data_aug_vis):\n",
        "    if i == 10:\n",
        "        break\n",
        "    plt.subplot(1, 10, i+1)\n",
        "    plt.grid(False)\n",
        "    plt.imshow(x)\n",
        "    plt.axis('off')"
      ],
      "execution_count": 13,
      "outputs": [
        {
          "output_type": "display_data",
          "data": {
            "image/png": "[encoded data removed]",
            "text/plain": [
              "<Figure size 2160x216 with 10 Axes>"
            ]
          },
          "metadata": {
            "tags": [],
            "needs_background": "light"
          }
        }
      ]
    },
    {
      "cell_type": "markdown",
      "metadata": {
        "id": "o2LrmsYHoguB"
      },
      "source": [
        "Все ли агментации одинаково полезны на этом наборе данных? Могут ли быть среди них те, которые собьют модель с толку?\n",
        "\n",
        "Выберите из них только корректные"
      ]
    },
    {
      "cell_type": "code",
      "metadata": {
        "id": "evro9ksXGs9u"
      },
      "source": [
        "# TODO: \n",
        "tfs = transforms.Compose([\n",
        "    transforms.ColorJitter(hue=.20, saturation=.20),\n",
        "    transforms.RandomRotation(10, resample=PIL.Image.BILINEAR),\n",
        "    transforms.ToTensor(),\n",
        "    transforms.Normalize(mean=[0.43,0.44,0.47],\n",
        "                       std=[0.20,0.20,0.20])                           \n",
        "])\n",
        "\n",
        "# TODO create new instances of loaders with the augmentations you chose\n",
        "data_aug_train = dset.SVHN(\"./\", transform=tfs)\n",
        "train_aug_loader = torch.utils.data.DataLoader(data_aug_train, batch_size=batch_size, sampler=train_sampler)"
      ],
      "execution_count": 17,
      "outputs": []
    },
    {
      "cell_type": "code",
      "metadata": {
        "colab": {
          "base_uri": "https://localhost:8080/"
        },
        "id": "PeO6Zw0DHqPR",
        "outputId": "a39be678-4a8b-4d1e-f4cb-ba83d22183a1"
      },
      "source": [
        "# Finally, let's train with augmentations!\n",
        "\n",
        "# Note we shouldn't use augmentations on validation\n",
        "\n",
        "loss_history, train_history, val_history = train_model(nn_model, train_aug_loader, val_loader, loss, optimizer, 5)"
      ],
      "execution_count": 18,
      "outputs": [
        {
          "output_type": "stream",
          "text": [
            "Average loss: 0.611455, Train accuracy: 0.814149, Val accuracy: 0.843287\n",
            "Average loss: 0.562899, Train accuracy: 0.829881, Val accuracy: 0.822401\n",
            "Average loss: 0.535155, Train accuracy: 0.837508, Val accuracy: 0.840966\n",
            "Average loss: 0.522675, Train accuracy: 0.842456, Val accuracy: 0.832776\n",
            "Average loss: 0.508411, Train accuracy: 0.845579, Val accuracy: 0.848475\n"
          ],
          "name": "stdout"
        }
      ]
    },
    {
      "cell_type": "markdown",
      "metadata": {
        "id": "r0bcioK6JBDK"
      },
      "source": [
        "# LeNet\n",
        "Попробуем имплементировать классическую архитектуру сверточной нейронной сети, предложенную Яном ЛеКуном в 1998 году. В свое время она достигла впечатляющих результатов на MNIST, посмотрим как она справится с SVHN?\n",
        "Она описана в статье [\"Gradient Based Learning Applied to Document Recognition\"](http://yann.lecun.com/exdb/publis/pdf/lecun-01a.pdf), попробуйте прочитать ключевые части и имплементировать предложенную архитетуру на PyTorch.\n",
        "\n",
        "Реализовывать слои и функцию ошибки LeNet, которых нет в PyTorch, **не нужно** - просто возьмите их размеры и переведите в уже известные нам Convolutional, Pooling и Fully Connected layers.\n",
        "\n",
        "Если в статье не очень понятно, можно просто погуглить LeNet и разобраться в деталях :)"
      ]
    },
    {
      "cell_type": "code",
      "metadata": {
        "id": "ieEzZUglJAUB"
      },
      "source": [
        "# TODO: Implement LeNet-like architecture for SVHN task\n",
        "lenet_model = nn.Sequential(\n",
        "  nn.Conv2d(3, 6, 5),\n",
        "  nn.ReLU(inplace=True),\n",
        "  nn.MaxPool2d(2, 2),\n",
        "  nn.Conv2d(6, 16, 5),\n",
        "  nn.ReLU(inplace=True),\n",
        "  nn.MaxPool2d(2, 2),\n",
        "  nn.Conv2d(16, 120, 5),\n",
        "  nn.ReLU(inplace=True),\n",
        "  Flattener(),\n",
        "  nn.Linear(120, 84),\n",
        "  nn.ReLU(inplace=True),\n",
        "  nn.Linear(84, 10)\n",
        ")\n",
        "\n",
        "lenet_model.type(torch.cuda.FloatTensor)\n",
        "lenet_model.to(device)\n",
        "\n",
        "loss = nn.CrossEntropyLoss().type(torch.cuda.FloatTensor)\n",
        "optimizer = optim.SGD(lenet_model.parameters(), lr=1e-1, weight_decay=1e-4)"
      ],
      "execution_count": 30,
      "outputs": []
    },
    {
      "cell_type": "code",
      "metadata": {
        "colab": {
          "base_uri": "https://localhost:8080/"
        },
        "id": "WMmaPfdeKk9H",
        "outputId": "acfd8b13-aa35-458b-c579-c81212a64a17"
      },
      "source": [
        "# Let's train it!\n",
        "loss_history, train_history, val_history = train_model(lenet_model, train_aug_loader, val_loader, loss, optimizer, 10)"
      ],
      "execution_count": 31,
      "outputs": [
        {
          "output_type": "stream",
          "text": [
            "916it [01:17, 11.86it/s]\n",
            "1it [00:00,  6.11it/s]"
          ],
          "name": "stderr"
        },
        {
          "output_type": "stream",
          "text": [
            "Average loss: 1.438968, Train accuracy: 0.507849, Val accuracy: 0.735581\n"
          ],
          "name": "stdout"
        },
        {
          "output_type": "stream",
          "text": [
            "916it [01:17, 11.89it/s]\n",
            "0it [00:00, ?it/s]"
          ],
          "name": "stderr"
        },
        {
          "output_type": "stream",
          "text": [
            "Average loss: 0.570556, Train accuracy: 0.830086, Val accuracy: 0.862194\n"
          ],
          "name": "stdout"
        },
        {
          "output_type": "stream",
          "text": [
            "916it [01:17, 11.79it/s]\n",
            "0it [00:00, ?it/s]"
          ],
          "name": "stderr"
        },
        {
          "output_type": "stream",
          "text": [
            "Average loss: 0.471054, Train accuracy: 0.860287, Val accuracy: 0.873592\n"
          ],
          "name": "stdout"
        },
        {
          "output_type": "stream",
          "text": [
            "916it [01:17, 11.82it/s]\n",
            "0it [00:00, ?it/s]"
          ],
          "name": "stderr"
        },
        {
          "output_type": "stream",
          "text": [
            "Average loss: 0.415697, Train accuracy: 0.875781, Val accuracy: 0.889837\n"
          ],
          "name": "stdout"
        },
        {
          "output_type": "stream",
          "text": [
            "916it [01:17, 11.88it/s]\n",
            "1it [00:00,  6.47it/s]"
          ],
          "name": "stderr"
        },
        {
          "output_type": "stream",
          "text": [
            "Average loss: 0.379321, Train accuracy: 0.885404, Val accuracy: 0.885332\n"
          ],
          "name": "stdout"
        },
        {
          "output_type": "stream",
          "text": [
            "916it [01:17, 11.84it/s]\n",
            "1it [00:00,  6.18it/s]"
          ],
          "name": "stderr"
        },
        {
          "output_type": "stream",
          "text": [
            "Average loss: 0.358258, Train accuracy: 0.892537, Val accuracy: 0.892635\n"
          ],
          "name": "stdout"
        },
        {
          "output_type": "stream",
          "text": [
            "916it [01:17, 11.82it/s]\n",
            "0it [00:00, ?it/s]"
          ],
          "name": "stderr"
        },
        {
          "output_type": "stream",
          "text": [
            "Average loss: 0.337454, Train accuracy: 0.899174, Val accuracy: 0.893659\n"
          ],
          "name": "stdout"
        },
        {
          "output_type": "stream",
          "text": [
            "916it [01:17, 11.83it/s]\n",
            "0it [00:00, ?it/s]"
          ],
          "name": "stderr"
        },
        {
          "output_type": "stream",
          "text": [
            "Average loss: 0.317172, Train accuracy: 0.904822, Val accuracy: 0.901099\n"
          ],
          "name": "stdout"
        },
        {
          "output_type": "stream",
          "text": [
            "916it [01:17, 11.81it/s]\n",
            "0it [00:00, ?it/s]"
          ],
          "name": "stderr"
        },
        {
          "output_type": "stream",
          "text": [
            "Average loss: 0.304434, Train accuracy: 0.909020, Val accuracy: 0.896048\n"
          ],
          "name": "stdout"
        },
        {
          "output_type": "stream",
          "text": [
            "916it [01:17, 11.79it/s]\n"
          ],
          "name": "stderr"
        },
        {
          "output_type": "stream",
          "text": [
            "Average loss: 0.290873, Train accuracy: 0.911477, Val accuracy: 0.903147\n"
          ],
          "name": "stdout"
        }
      ]
    },
    {
      "cell_type": "code",
      "metadata": {
        "id": "voz_zoMNgZhH"
      },
      "source": [
        "import random"
      ],
      "execution_count": 37,
      "outputs": []
    },
    {
      "cell_type": "markdown",
      "metadata": {
        "id": "u_O9qiYySvuj"
      },
      "source": [
        "# Подбор гиперпараметров"
      ]
    },
    {
      "cell_type": "code",
      "metadata": {
        "colab": {
          "base_uri": "https://localhost:8080/"
        },
        "id": "i6mhfdQ9K-N3",
        "outputId": "fd0d679f-282b-44ab-9512-b35b1f545989"
      },
      "source": [
        "# The key hyperparameters we're going to tune are learning speed, annealing rate and regularization\n",
        "# We also encourage you to try different optimizers as well\n",
        "\n",
        "Hyperparams = namedtuple(\"Hyperparams\", ['learning_rate', 'anneal_epochs', 'reg', 'optimizer'])\n",
        "RunResult = namedtuple(\"RunResult\", ['model', 'train_history', 'val_history', 'final_val_accuracy'])\n",
        "\n",
        "learning_rates = np.logspace(-2, -1, 3)\n",
        "anneal_coeff = 0.7\n",
        "anneal_epochs = [2, 4]\n",
        "regs = np.logspace(-6, -3, 4)\n",
        "optimizers = [optim.SGD, optim.Adam]\n",
        "\n",
        "batch_size = 64\n",
        "epoch_num = 5\n",
        "\n",
        "# Record all the runs here\n",
        "# Key should be Hyperparams and values should be RunResult\n",
        "run_record = {} \n",
        "\n",
        "# Use grid search or random search and record all runs in run_record dictionnary \n",
        "# Important: perform search in logarithmic space!\n",
        "\n",
        "for i in range(10):\n",
        "  lenet_model = nn.Sequential(\n",
        "    nn.Conv2d(3, 6, 5),\n",
        "    nn.ReLU(inplace=True),\n",
        "    nn.MaxPool2d(2, 2),\n",
        "    nn.Conv2d(6, 16, 5),\n",
        "    nn.ReLU(inplace=True),\n",
        "    nn.MaxPool2d(2, 2),\n",
        "    nn.Conv2d(16, 120, 5),\n",
        "    nn.ReLU(inplace=True),\n",
        "    Flattener(),\n",
        "    nn.Linear(120, 84),\n",
        "    nn.ReLU(inplace=True),\n",
        "    nn.Linear(84, 10)\n",
        "  )\n",
        "\n",
        "  lenet_model.type(torch.cuda.FloatTensor)\n",
        "  lenet_model.to(device)\n",
        "\n",
        "  loss = nn.CrossEntropyLoss().type(torch.cuda.FloatTensor)\n",
        "\n",
        "  lr = random.choice(learning_rates)\n",
        "  a_epoch = random.choice(anneal_epochs)\n",
        "  reg = random.choice(regs)\n",
        "  optimizer = random.choice(optimizers)(lenet_model.parameters(), lr=lr, weight_decay=reg)\n",
        "  scheduler = optim.lr_scheduler.StepLR(optimizer, a_epoch, anneal_coeff)\n",
        "  print(f\"Model {lr}-{a_epoch}-{reg}-{str(optimizer).split()[0]}\\n\")\n",
        "  loss_history, train_history, val_history = train_model(lenet_model, train_aug_loader, val_loader, loss, optimizer, epoch_num, scheduler)\n",
        "  run_record[Hyperparams(lr, a_epoch, reg, optimizer)] = RunResult(lenet_model, train_history, val_history, val_history[-1])"
      ],
      "execution_count": 61,
      "outputs": [
        {
          "output_type": "stream",
          "text": [
            "Model 0.01-2-1e-06-Adam\n",
            "\n",
            "Average loss: 1.284132, Train accuracy: 0.582551, Val accuracy: 0.731895\n",
            "Average loss: 0.864654, Train accuracy: 0.741699, Val accuracy: 0.784656\n",
            "Average loss: 0.737875, Train accuracy: 0.780500, Val accuracy: 0.794007\n",
            "Average loss: 0.699003, Train accuracy: 0.792564, Val accuracy: 0.795236\n",
            "Average loss: 0.638254, Train accuracy: 0.809968, Val accuracy: 0.826565\n",
            "Model 0.01-4-0.0001-Adam\n",
            "\n",
            "Average loss: 2.241197, Train accuracy: 0.190083, Val accuracy: 0.183537\n",
            "Average loss: 2.239346, Train accuracy: 0.190612, Val accuracy: 0.183537\n",
            "Average loss: 2.238917, Train accuracy: 0.190629, Val accuracy: 0.183537\n",
            "Average loss: 2.238854, Train accuracy: 0.190373, Val accuracy: 0.183537\n",
            "Average loss: 2.238471, Train accuracy: 0.190629, Val accuracy: 0.183537\n",
            "Model 0.03162277660168379-4-1e-06-SGD\n",
            "\n",
            "Average loss: 2.178701, Train accuracy: 0.216616, Val accuracy: 0.421951\n",
            "Average loss: 1.024341, Train accuracy: 0.683855, Val accuracy: 0.807931\n",
            "Average loss: 0.647671, Train accuracy: 0.809098, Val accuracy: 0.849157\n",
            "Average loss: 0.543674, Train accuracy: 0.840068, Val accuracy: 0.862808\n",
            "Average loss: 0.467322, Train accuracy: 0.862284, Val accuracy: 0.874070\n",
            "Model 0.01-2-0.0001-Adam\n",
            "\n",
            "Average loss: 1.355029, Train accuracy: 0.557469, Val accuracy: 0.758242\n",
            "Average loss: 0.867282, Train accuracy: 0.743149, Val accuracy: 0.781312\n",
            "Average loss: 0.718522, Train accuracy: 0.787308, Val accuracy: 0.801652\n",
            "Average loss: 0.674164, Train accuracy: 0.799918, Val accuracy: 0.824108\n",
            "Average loss: 0.605161, Train accuracy: 0.820291, Val accuracy: 0.838441\n",
            "Model 0.1-2-1e-06-Adam\n",
            "\n",
            "Average loss: 6.192221, Train accuracy: 0.185203, Val accuracy: 0.183537\n",
            "Average loss: 2.246277, Train accuracy: 0.186721, Val accuracy: 0.183537\n",
            "Average loss: 2.244206, Train accuracy: 0.187762, Val accuracy: 0.183537\n",
            "Average loss: 2.245119, Train accuracy: 0.189008, Val accuracy: 0.183537\n",
            "Average loss: 2.242170, Train accuracy: 0.190236, Val accuracy: 0.183537\n",
            "Model 0.1-4-1e-05-SGD\n",
            "\n",
            "Average loss: 1.310617, Train accuracy: 0.558475, Val accuracy: 0.825063\n",
            "Average loss: 0.547202, Train accuracy: 0.836723, Val accuracy: 0.838305\n",
            "Average loss: 0.453008, Train accuracy: 0.863273, Val accuracy: 0.882124\n",
            "Average loss: 0.401398, Train accuracy: 0.879500, Val accuracy: 0.888745\n",
            "Average loss: 0.341007, Train accuracy: 0.897946, Val accuracy: 0.898573\n",
            "Model 0.01-2-1e-06-Adam\n",
            "\n",
            "Average loss: 1.425619, Train accuracy: 0.528325, Val accuracy: 0.660911\n",
            "Average loss: 1.105550, Train accuracy: 0.651043, Val accuracy: 0.709303\n",
            "Average loss: 0.992599, Train accuracy: 0.688769, Val accuracy: 0.720497\n",
            "Average loss: 0.960253, Train accuracy: 0.699075, Val accuracy: 0.738448\n",
            "Average loss: 0.867872, Train accuracy: 0.731000, Val accuracy: 0.758037\n",
            "Model 0.1-2-1e-05-Adam\n",
            "\n",
            "Average loss: 4.930290, Train accuracy: 0.188530, Val accuracy: 0.183537\n",
            "Average loss: 2.246721, Train accuracy: 0.188394, Val accuracy: 0.183537\n",
            "Average loss: 2.243604, Train accuracy: 0.190219, Val accuracy: 0.183537\n",
            "Average loss: 2.625744, Train accuracy: 0.188513, Val accuracy: 0.183537\n",
            "Average loss: 2.242741, Train accuracy: 0.190100, Val accuracy: 0.183537\n",
            "Model 0.01-4-0.0001-Adam\n",
            "\n",
            "Average loss: 1.259490, Train accuracy: 0.591629, Val accuracy: 0.749232\n",
            "Average loss: 0.851051, Train accuracy: 0.745640, Val accuracy: 0.774009\n",
            "Average loss: 0.771187, Train accuracy: 0.770450, Val accuracy: 0.762405\n",
            "Average loss: 0.742077, Train accuracy: 0.781592, Val accuracy: 0.804450\n",
            "Average loss: 0.655518, Train accuracy: 0.804866, Val accuracy: 0.827657\n",
            "Model 0.01-2-0.001-SGD\n",
            "\n",
            "Average loss: 2.253621, Train accuracy: 0.184247, Val accuracy: 0.183537\n",
            "Average loss: 2.230625, Train accuracy: 0.190629, Val accuracy: 0.183537\n",
            "Average loss: 2.167226, Train accuracy: 0.210729, Val accuracy: 0.277524\n",
            "Average loss: 1.706998, Train accuracy: 0.431338, Val accuracy: 0.602962\n",
            "Average loss: 1.101621, Train accuracy: 0.657407, Val accuracy: 0.731691\n"
          ],
          "name": "stdout"
        }
      ]
    },
    {
      "cell_type": "code",
      "metadata": {
        "colab": {
          "base_uri": "https://localhost:8080/"
        },
        "id": "Y6xExdw8JB1l",
        "outputId": "6dde2ec4-aa23-4efa-fc86-187d5345658c"
      },
      "source": [
        "best_val_accuracy = None\n",
        "best_hyperparams = None\n",
        "best_run = None\n",
        "\n",
        "for hyperparams, run_result in run_record.items():\n",
        "    if best_val_accuracy is None or best_val_accuracy < run_result.final_val_accuracy:\n",
        "        best_val_accuracy = run_result.final_val_accuracy\n",
        "        best_hyperparams = hyperparams\n",
        "        best_run = run_result\n",
        "        \n",
        "print(\"Best validation accuracy: %4.2f, best hyperparams: %s\" % (best_val_accuracy, best_hyperparams))\n",
        "        "
      ],
      "execution_count": 62,
      "outputs": [
        {
          "output_type": "stream",
          "text": [
            "Best validation accuracy: 0.90, best hyperparams: Hyperparams(learning_rate=0.1, anneal_epochs=4, reg=1e-05, optimizer=SGD (\n",
            "Parameter Group 0\n",
            "    dampening: 0\n",
            "    initial_lr: 0.1\n",
            "    lr: 0.06999999999999999\n",
            "    momentum: 0\n",
            "    nesterov: False\n",
            "    weight_decay: 1e-05\n",
            "))\n"
          ],
          "name": "stdout"
        }
      ]
    },
    {
      "cell_type": "code",
      "metadata": {
        "colab": {
          "base_uri": "https://localhost:8080/"
        },
        "id": "_LHKMKcc_JGx",
        "outputId": "84eaab60-630a-4d8b-ffc3-edaea4cbaa08"
      },
      "source": [
        "best_model = best_run[0]\n",
        "\n",
        "lr = 0.1\n",
        "a_epoch = 4\n",
        "reg = 1e-5\n",
        "optimizer = optim.SGD(best_model.parameters(), lr=lr, weight_decay=reg)\n",
        "scheduler = optim.lr_scheduler.StepLR(optimizer, a_epoch, anneal_coeff)\n",
        "print(f\"Model {lr}-{a_epoch}-{reg}-{str(optimizer).split()[0]}\\n\")\n",
        "loss_history, train_history, val_history = train_model(best_model, train_aug_loader, val_loader, loss, optimizer, 20, scheduler)"
      ],
      "execution_count": 69,
      "outputs": [
        {
          "output_type": "stream",
          "text": [
            "Model 0.1-4-1e-05-SGD\n",
            "\n",
            "Average loss: 0.354746, Train accuracy: 0.893356, Val accuracy: 0.901031\n",
            "Average loss: 0.335812, Train accuracy: 0.898372, Val accuracy: 0.903420\n",
            "Average loss: 0.319267, Train accuracy: 0.903781, Val accuracy: 0.893113\n",
            "Average loss: 0.302446, Train accuracy: 0.908303, Val accuracy: 0.903966\n",
            "Average loss: 0.258678, Train accuracy: 0.921305, Val accuracy: 0.905058\n",
            "Average loss: 0.246564, Train accuracy: 0.925298, Val accuracy: 0.901850\n",
            "Average loss: 0.238247, Train accuracy: 0.926680, Val accuracy: 0.903897\n",
            "Average loss: 0.229235, Train accuracy: 0.929376, Val accuracy: 0.905058\n",
            "Average loss: 0.200255, Train accuracy: 0.938931, Val accuracy: 0.906491\n",
            "Average loss: 0.193524, Train accuracy: 0.941388, Val accuracy: 0.910382\n",
            "Average loss: 0.189904, Train accuracy: 0.940672, Val accuracy: 0.909562\n",
            "Average loss: 0.182656, Train accuracy: 0.943333, Val accuracy: 0.909767\n",
            "Average loss: 0.160963, Train accuracy: 0.949852, Val accuracy: 0.911064\n",
            "Average loss: 0.154632, Train accuracy: 0.952582, Val accuracy: 0.911610\n",
            "Average loss: 0.151703, Train accuracy: 0.953111, Val accuracy: 0.910791\n",
            "Average loss: 0.147395, Train accuracy: 0.953759, Val accuracy: 0.913112\n",
            "Average loss: 0.133204, Train accuracy: 0.958690, Val accuracy: 0.910313\n",
            "Average loss: 0.127305, Train accuracy: 0.960499, Val accuracy: 0.912702\n",
            "Average loss: 0.125691, Train accuracy: 0.961335, Val accuracy: 0.912156\n",
            "Average loss: 0.123403, Train accuracy: 0.961489, Val accuracy: 0.908061\n"
          ],
          "name": "stdout"
        }
      ]
    },
    {
      "cell_type": "markdown",
      "metadata": {
        "id": "LOmsR0uVgtgf"
      },
      "source": [
        "# Свободное упражнение - догоним и перегоним LeNet!\n",
        "\n",
        "Попробуйте найти архитектуру и настройки тренировки, чтобы выступить лучше наших бейзлайнов.\n",
        "\n",
        "Что можно и нужно попробовать:\n",
        "- BatchNormalization (для convolution layers он в PyTorch называется [batchnorm2d](https://pytorch.org/docs/stable/nn.html#batchnorm2d))\n",
        "- Изменить количество слоев и их толщину\n",
        "- Изменять количество эпох тренировки\n",
        "- Попробовать и другие агментации"
      ]
    },
    {
      "cell_type": "code",
      "metadata": {
        "id": "tSVhD747icoc"
      },
      "source": [
        "my_best_model = nn.Sequential(\n",
        "    nn.Conv2d(3, 16, 5),\n",
        "    nn.ReLU(inplace=True),\n",
        "    nn.BatchNorm2d(16),\n",
        "    nn.Conv2d(16, 32, 5),\n",
        "    nn.ReLU(inplace=True),\n",
        "    nn.BatchNorm2d(32),\n",
        "    nn.MaxPool2d(2, 2),\n",
        "    nn.Conv2d(32, 64, 5),\n",
        "    nn.ReLU(inplace=True),\n",
        "    nn.BatchNorm2d(64),\n",
        "    nn.MaxPool2d(2, 2),\n",
        "    Flattener(),\n",
        "    nn.Dropout(0.5),\n",
        "    nn.Linear(4 * 4 * 64, 32),\n",
        "    nn.ReLU(inplace=True),\n",
        "    nn.BatchNorm1d(32),\n",
        "    nn.Linear(32, 10)\n",
        ")\n",
        "\n",
        "my_best_model.type(torch.cuda.FloatTensor)\n",
        "my_best_model.to(device)\n",
        "\n",
        "loss = nn.CrossEntropyLoss().type(torch.FloatTensor)\n",
        "optimizer = optim.Adam(my_best_model.parameters(), lr=0.01, weight_decay=1e-4)\n",
        "scheduler = optim.lr_scheduler.StepLR(optimizer, 1, 0.7)"
      ],
      "execution_count": 129,
      "outputs": []
    },
    {
      "cell_type": "code",
      "metadata": {
        "id": "B-O-HUKjUyjl",
        "outputId": "62b840e4-8e01-4ddf-d983-530ccfe5fda1",
        "colab": {
          "base_uri": "https://localhost:8080/"
        }
      },
      "source": [
        "loss_history, train_history, val_history = train_model(my_best_model, train_aug_loader, val_loader, loss, optimizer, 3, scheduler)"
      ],
      "execution_count": 130,
      "outputs": [
        {
          "output_type": "stream",
          "text": [
            "Average loss: 0.775562, Train accuracy: 0.748046, Val accuracy: 0.875776\n",
            "Average loss: 0.465151, Train accuracy: 0.854947, Val accuracy: 0.894683\n",
            "Average loss: 0.413586, Train accuracy: 0.873358, Val accuracy: 0.906286\n"
          ],
          "name": "stdout"
        }
      ]
    },
    {
      "cell_type": "markdown",
      "metadata": {
        "id": "ubeKgBcnhx7N"
      },
      "source": [
        "# Финальный аккорд - проверим лучшую модель на test set\n",
        "\n",
        "В качестве разнообразия - напишите код для прогона модели на test set вы.\n",
        "\n",
        "В результате вы должны натренировать модель, которая покажет более **90%** точности на test set.  \n",
        "Как водится, лучший результат в группе получит дополнительные баллы!"
      ]
    },
    {
      "cell_type": "code",
      "metadata": {
        "id": "J5hlivhcY8Io",
        "outputId": "70b18d15-cacf-4cb8-eee6-3099ee968ffa",
        "colab": {
          "base_uri": "https://localhost:8080/"
        }
      },
      "source": [
        "best_model.eval()\n",
        "with torch.no_grad():\n",
        "  pred = torch.argmax(best_model(torch.cuda.FloatTensor(X_test).to(device)), dim=1)\n",
        "  true = 0\n",
        "  count = 0\n",
        "  for i, (p, y) in enumerate(zip(pred, y_test)):\n",
        "    if p.item() == y:\n",
        "      true += 1\n",
        "    count += 1\n",
        "  print(\"Final test accuracy - \", true / count)"
      ],
      "execution_count": 131,
      "outputs": [
        {
          "output_type": "stream",
          "text": [
            "Final test accuracy -  0.8149969268592502\n"
          ],
          "name": "stdout"
        }
      ]
    },
    {
      "cell_type": "code",
      "metadata": {
        "colab": {
          "base_uri": "https://localhost:8080/"
        },
        "id": "EIqM1kdeh-hd",
        "outputId": "10d7b917-8a39-45b9-cd79-bb3be645c009"
      },
      "source": [
        "my_best_model.eval()\n",
        "with torch.no_grad():\n",
        "  pred = torch.argmax(my_best_model(torch.cuda.FloatTensor(X_test).to(device)), dim=1)\n",
        "  true = 0\n",
        "  count = 0\n",
        "  for i, (p, y) in enumerate(zip(pred, y_test)):\n",
        "    if p.item() == y:\n",
        "      true += 1\n",
        "    count += 1\n",
        "  print(\"Final test accuracy - \", true / count)"
      ],
      "execution_count": 132,
      "outputs": [
        {
          "output_type": "stream",
          "text": [
            "Final test accuracy -  0.7920636140135218\n"
          ],
          "name": "stdout"
        }
      ]
    }
  ]
}